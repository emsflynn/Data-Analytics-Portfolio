{
 "cells": [
  {
   "cell_type": "code",
   "execution_count": 2,
   "id": "138971f4",
   "metadata": {},
   "outputs": [
    {
     "name": "stdout",
     "output_type": "stream",
     "text": [
      "Where were you born?\n",
      "This person was born in \n"
     ]
    }
   ],
   "source": [
    "#This was a Python Exam we completed in class, it shows some of the skills I have learnt in Python."
   ]
  },
  {
   "cell_type": "code",
   "execution_count": null,
   "id": "fc4dd5a6",
   "metadata": {},
   "outputs": [],
   "source": [
    "#EX1\n",
    "\n",
    "birthplVal = input('Where were you born?')\n",
    "print('This person was born in ' + birthplVal)"
   ]
  },
  {
   "cell_type": "code",
   "execution_count": 3,
   "id": "ab758c69",
   "metadata": {},
   "outputs": [],
   "source": [
    "#EX2\n",
    "\n",
    "tmpLst = []\n",
    "n = 10\n",
    "while n >= 5:\n",
    "    tmpLst.append(n)\n",
    "    n = n - 1"
   ]
  },
  {
   "cell_type": "code",
   "execution_count": 4,
   "id": "f934a9c3",
   "metadata": {},
   "outputs": [
    {
     "data": {
      "text/plain": [
       "[10, 9, 8, 7, 6, 5]"
      ]
     },
     "execution_count": 4,
     "metadata": {},
     "output_type": "execute_result"
    }
   ],
   "source": [
    "tmpLst"
   ]
  },
  {
   "cell_type": "code",
   "execution_count": 5,
   "id": "f4feeef1",
   "metadata": {
    "scrolled": true
   },
   "outputs": [
    {
     "name": "stdout",
     "output_type": "stream",
     "text": [
      "10\n",
      "9\n",
      "8\n",
      "7\n",
      "6\n",
      "5\n"
     ]
    }
   ],
   "source": [
    "for cpt in range(len(tmpLst)):\n",
    "    print(tmpLst[cpt])"
   ]
  },
  {
   "cell_type": "code",
   "execution_count": 6,
   "id": "171fa2bd",
   "metadata": {},
   "outputs": [
    {
     "name": "stdout",
     "output_type": "stream",
     "text": [
      "10\n",
      "9\n",
      "8\n",
      "7\n",
      "6\n",
      "5\n"
     ]
    }
   ],
   "source": [
    "for elt in tmpLst:\n",
    "    print(elt)"
   ]
  },
  {
   "cell_type": "code",
   "execution_count": 26,
   "id": "744ff78b",
   "metadata": {},
   "outputs": [
    {
     "data": {
      "text/plain": [
       "{'Product A': [10.99, 50], 'Product B': [5.99, 30], 'Product C': [7.49, 25]}"
      ]
     },
     "execution_count": 26,
     "metadata": {},
     "output_type": "execute_result"
    }
   ],
   "source": [
    "#EX3\n",
    "\n",
    "prodDict = {'Product A' : [10.99, 50], \n",
    "           'Product B' : [5.99, 30],\n",
    "           'Product C' : [7.49, 25]}\n",
    "\n",
    "prodDict\n"
   ]
  },
  {
   "cell_type": "code",
   "execution_count": 27,
   "id": "addef821",
   "metadata": {},
   "outputs": [
    {
     "name": "stdout",
     "output_type": "stream",
     "text": [
      "Product Arevenue is 549.5\n",
      "Product Brevenue is 179.70000000000002\n",
      "Product Crevenue is 187.25\n"
     ]
    }
   ],
   "source": [
    "totRev = 0\n",
    "for keyElt in prodDict.keys():\n",
    "    totRev += prodDict[keyElt][0] * prodDict[keyElt][1]\n",
    "    print(keyElt + 'revenue is ' + str(prodDict[keyElt][0] *\n",
    "                                     prodDict[keyElt][1]))"
   ]
  },
  {
   "cell_type": "code",
   "execution_count": 28,
   "id": "bfee736c",
   "metadata": {},
   "outputs": [
    {
     "name": "stdout",
     "output_type": "stream",
     "text": [
      "The toal revenue is 916.45\n"
     ]
    }
   ],
   "source": [
    "print('The toal revenue is ' + str(totRev))"
   ]
  },
  {
   "cell_type": "code",
   "execution_count": 29,
   "id": "737baee6",
   "metadata": {},
   "outputs": [],
   "source": [
    "import pandas as pd"
   ]
  },
  {
   "cell_type": "code",
   "execution_count": 30,
   "id": "d9b3c330",
   "metadata": {},
   "outputs": [],
   "source": [
    "#Convert to pandas\n",
    "\n",
    "prodDf = pd.DataFrame(prodDict)"
   ]
  },
  {
   "cell_type": "code",
   "execution_count": 31,
   "id": "4d1cf395",
   "metadata": {},
   "outputs": [
    {
     "data": {
      "text/html": [
       "<div>\n",
       "<style scoped>\n",
       "    .dataframe tbody tr th:only-of-type {\n",
       "        vertical-align: middle;\n",
       "    }\n",
       "\n",
       "    .dataframe tbody tr th {\n",
       "        vertical-align: top;\n",
       "    }\n",
       "\n",
       "    .dataframe thead th {\n",
       "        text-align: right;\n",
       "    }\n",
       "</style>\n",
       "<table border=\"1\" class=\"dataframe\">\n",
       "  <thead>\n",
       "    <tr style=\"text-align: right;\">\n",
       "      <th></th>\n",
       "      <th>Product A</th>\n",
       "      <th>Product B</th>\n",
       "      <th>Product C</th>\n",
       "    </tr>\n",
       "  </thead>\n",
       "  <tbody>\n",
       "    <tr>\n",
       "      <th>0</th>\n",
       "      <td>10.99</td>\n",
       "      <td>5.99</td>\n",
       "      <td>7.49</td>\n",
       "    </tr>\n",
       "    <tr>\n",
       "      <th>1</th>\n",
       "      <td>50.00</td>\n",
       "      <td>30.00</td>\n",
       "      <td>25.00</td>\n",
       "    </tr>\n",
       "  </tbody>\n",
       "</table>\n",
       "</div>"
      ],
      "text/plain": [
       "   Product A  Product B  Product C\n",
       "0      10.99       5.99       7.49\n",
       "1      50.00      30.00      25.00"
      ]
     },
     "execution_count": 31,
     "metadata": {},
     "output_type": "execute_result"
    }
   ],
   "source": [
    "prodDf"
   ]
  },
  {
   "cell_type": "code",
   "execution_count": 32,
   "id": "52b6727e",
   "metadata": {},
   "outputs": [],
   "source": [
    "prodDf.set_index([['Cost','Quantity']], inplace=True)"
   ]
  },
  {
   "cell_type": "code",
   "execution_count": 33,
   "id": "4f4728c5",
   "metadata": {},
   "outputs": [
    {
     "data": {
      "text/html": [
       "<div>\n",
       "<style scoped>\n",
       "    .dataframe tbody tr th:only-of-type {\n",
       "        vertical-align: middle;\n",
       "    }\n",
       "\n",
       "    .dataframe tbody tr th {\n",
       "        vertical-align: top;\n",
       "    }\n",
       "\n",
       "    .dataframe thead th {\n",
       "        text-align: right;\n",
       "    }\n",
       "</style>\n",
       "<table border=\"1\" class=\"dataframe\">\n",
       "  <thead>\n",
       "    <tr style=\"text-align: right;\">\n",
       "      <th></th>\n",
       "      <th>Product A</th>\n",
       "      <th>Product B</th>\n",
       "      <th>Product C</th>\n",
       "    </tr>\n",
       "  </thead>\n",
       "  <tbody>\n",
       "    <tr>\n",
       "      <th>Cost</th>\n",
       "      <td>10.99</td>\n",
       "      <td>5.99</td>\n",
       "      <td>7.49</td>\n",
       "    </tr>\n",
       "    <tr>\n",
       "      <th>Quantity</th>\n",
       "      <td>50.00</td>\n",
       "      <td>30.00</td>\n",
       "      <td>25.00</td>\n",
       "    </tr>\n",
       "  </tbody>\n",
       "</table>\n",
       "</div>"
      ],
      "text/plain": [
       "          Product A  Product B  Product C\n",
       "Cost          10.99       5.99       7.49\n",
       "Quantity      50.00      30.00      25.00"
      ]
     },
     "execution_count": 33,
     "metadata": {},
     "output_type": "execute_result"
    }
   ],
   "source": [
    "prodDf"
   ]
  },
  {
   "cell_type": "code",
   "execution_count": 34,
   "id": "61e38188",
   "metadata": {},
   "outputs": [],
   "source": [
    "prodDf.iloc[1,2] = 35"
   ]
  },
  {
   "cell_type": "code",
   "execution_count": 36,
   "id": "33269d11",
   "metadata": {},
   "outputs": [],
   "source": [
    "prodDf.loc['Quantity', 'Product B'] = 45"
   ]
  },
  {
   "cell_type": "code",
   "execution_count": 37,
   "id": "bd9a3155",
   "metadata": {},
   "outputs": [
    {
     "data": {
      "text/html": [
       "<div>\n",
       "<style scoped>\n",
       "    .dataframe tbody tr th:only-of-type {\n",
       "        vertical-align: middle;\n",
       "    }\n",
       "\n",
       "    .dataframe tbody tr th {\n",
       "        vertical-align: top;\n",
       "    }\n",
       "\n",
       "    .dataframe thead th {\n",
       "        text-align: right;\n",
       "    }\n",
       "</style>\n",
       "<table border=\"1\" class=\"dataframe\">\n",
       "  <thead>\n",
       "    <tr style=\"text-align: right;\">\n",
       "      <th></th>\n",
       "      <th>Product A</th>\n",
       "      <th>Product B</th>\n",
       "      <th>Product C</th>\n",
       "    </tr>\n",
       "  </thead>\n",
       "  <tbody>\n",
       "    <tr>\n",
       "      <th>Cost</th>\n",
       "      <td>10.99</td>\n",
       "      <td>5.99</td>\n",
       "      <td>7.49</td>\n",
       "    </tr>\n",
       "    <tr>\n",
       "      <th>Quantity</th>\n",
       "      <td>50.00</td>\n",
       "      <td>45.00</td>\n",
       "      <td>35.00</td>\n",
       "    </tr>\n",
       "  </tbody>\n",
       "</table>\n",
       "</div>"
      ],
      "text/plain": [
       "          Product A  Product B  Product C\n",
       "Cost          10.99       5.99       7.49\n",
       "Quantity      50.00      45.00      35.00"
      ]
     },
     "execution_count": 37,
     "metadata": {},
     "output_type": "execute_result"
    }
   ],
   "source": [
    "prodDf"
   ]
  },
  {
   "cell_type": "code",
   "execution_count": null,
   "id": "8965451a",
   "metadata": {},
   "outputs": [],
   "source": []
  },
  {
   "cell_type": "code",
   "execution_count": 38,
   "id": "2bb14b30",
   "metadata": {},
   "outputs": [],
   "source": [
    "#EX4\n",
    "\n",
    "from scipy import stats"
   ]
  },
  {
   "cell_type": "code",
   "execution_count": 43,
   "id": "ff9d0c44",
   "metadata": {},
   "outputs": [],
   "source": [
    "#Create a 'MeanFun' function to compute the average of a list\n",
    "\n",
    "def MeanFun(l):\n",
    "    return(sum(l)/len(l))"
   ]
  },
  {
   "cell_type": "code",
   "execution_count": 44,
   "id": "2a19aac9",
   "metadata": {},
   "outputs": [],
   "source": [
    "lst = [2,4,6,8,10]"
   ]
  },
  {
   "cell_type": "code",
   "execution_count": 45,
   "id": "991dc887",
   "metadata": {},
   "outputs": [
    {
     "data": {
      "text/plain": [
       "6.0"
      ]
     },
     "execution_count": 45,
     "metadata": {},
     "output_type": "execute_result"
    }
   ],
   "source": [
    "MeanFun(lst)"
   ]
  },
  {
   "cell_type": "code",
   "execution_count": 46,
   "id": "9745408c",
   "metadata": {},
   "outputs": [],
   "source": [
    "#Create a 'Beta1Fun' function to compute the coeffecient of 2 lists\n",
    "\n",
    "a = [12, 15, 6, 13, 12, 18, 2, 15, 8, 9, 16, 14, 16]\n",
    "b = [-12, -15, -6, -13, -12, -18, -2, -16, -8, -9, -16, -14, -16]"
   ]
  },
  {
   "cell_type": "code",
   "execution_count": 47,
   "id": "9deca117",
   "metadata": {},
   "outputs": [],
   "source": [
    "def Beta1Fun(la, lb):\n",
    "    if len(la) == len(lb):\n",
    "        sumNum = 0\n",
    "        sumDen = 0\n",
    "        for i in range(len(la)):\n",
    "            sumNum += (la[i] - MeanFun(la)) * (lb[i] - MeanFun(lb))\n",
    "            sumDen += (la[i] - MeanFun(la)) * (la[i] - MeanFun(la))\n",
    "        return(sumNum / sumDen)\n"
   ]
  },
  {
   "cell_type": "code",
   "execution_count": 48,
   "id": "5afd54a3",
   "metadata": {},
   "outputs": [
    {
     "name": "stdout",
     "output_type": "stream",
     "text": [
      "-1.0119047619047619\n"
     ]
    }
   ],
   "source": [
    "print(Beta1Fun(a, b))"
   ]
  },
  {
   "cell_type": "code",
   "execution_count": 49,
   "id": "5c192642",
   "metadata": {},
   "outputs": [
    {
     "name": "stdout",
     "output_type": "stream",
     "text": [
      "-1.0119047619047619\n"
     ]
    }
   ],
   "source": [
    "print(stats.linregress(a, b).slope)"
   ]
  },
  {
   "cell_type": "code",
   "execution_count": null,
   "id": "fccf8177",
   "metadata": {},
   "outputs": [],
   "source": []
  },
  {
   "cell_type": "code",
   "execution_count": 50,
   "id": "9658ccd7",
   "metadata": {},
   "outputs": [],
   "source": [
    "#EX5\n",
    "\n",
    "inpPath = '/Users/emsfl/Downloads/'"
   ]
  },
  {
   "cell_type": "code",
   "execution_count": 53,
   "id": "26f9943c",
   "metadata": {},
   "outputs": [],
   "source": [
    "inpDf = pd.read_csv(inpPath + 'Assignment_Input.csv', delimiter=',', header=0, index_col=None)"
   ]
  },
  {
   "cell_type": "code",
   "execution_count": 54,
   "id": "0e53feb1",
   "metadata": {},
   "outputs": [
    {
     "data": {
      "text/html": [
       "<div>\n",
       "<style scoped>\n",
       "    .dataframe tbody tr th:only-of-type {\n",
       "        vertical-align: middle;\n",
       "    }\n",
       "\n",
       "    .dataframe tbody tr th {\n",
       "        vertical-align: top;\n",
       "    }\n",
       "\n",
       "    .dataframe thead th {\n",
       "        text-align: right;\n",
       "    }\n",
       "</style>\n",
       "<table border=\"1\" class=\"dataframe\">\n",
       "  <thead>\n",
       "    <tr style=\"text-align: right;\">\n",
       "      <th></th>\n",
       "      <th>AdvBudg</th>\n",
       "      <th>Sales</th>\n",
       "    </tr>\n",
       "  </thead>\n",
       "  <tbody>\n",
       "    <tr>\n",
       "      <th>0</th>\n",
       "      <td>1000</td>\n",
       "      <td>3200</td>\n",
       "    </tr>\n",
       "    <tr>\n",
       "      <th>1</th>\n",
       "      <td>2000</td>\n",
       "      <td>4500</td>\n",
       "    </tr>\n",
       "    <tr>\n",
       "      <th>2</th>\n",
       "      <td>3000</td>\n",
       "      <td>6100</td>\n",
       "    </tr>\n",
       "    <tr>\n",
       "      <th>3</th>\n",
       "      <td>4000</td>\n",
       "      <td>7800</td>\n",
       "    </tr>\n",
       "    <tr>\n",
       "      <th>4</th>\n",
       "      <td>5000</td>\n",
       "      <td>9200</td>\n",
       "    </tr>\n",
       "    <tr>\n",
       "      <th>5</th>\n",
       "      <td>6000</td>\n",
       "      <td>11500</td>\n",
       "    </tr>\n",
       "    <tr>\n",
       "      <th>6</th>\n",
       "      <td>7000</td>\n",
       "      <td>13300</td>\n",
       "    </tr>\n",
       "    <tr>\n",
       "      <th>7</th>\n",
       "      <td>8000</td>\n",
       "      <td>15700</td>\n",
       "    </tr>\n",
       "    <tr>\n",
       "      <th>8</th>\n",
       "      <td>9000</td>\n",
       "      <td>17900</td>\n",
       "    </tr>\n",
       "    <tr>\n",
       "      <th>9</th>\n",
       "      <td>10000</td>\n",
       "      <td>20100</td>\n",
       "    </tr>\n",
       "  </tbody>\n",
       "</table>\n",
       "</div>"
      ],
      "text/plain": [
       "   AdvBudg  Sales\n",
       "0     1000   3200\n",
       "1     2000   4500\n",
       "2     3000   6100\n",
       "3     4000   7800\n",
       "4     5000   9200\n",
       "5     6000  11500\n",
       "6     7000  13300\n",
       "7     8000  15700\n",
       "8     9000  17900\n",
       "9    10000  20100"
      ]
     },
     "execution_count": 54,
     "metadata": {},
     "output_type": "execute_result"
    }
   ],
   "source": [
    "inpDf"
   ]
  },
  {
   "cell_type": "code",
   "execution_count": 55,
   "id": "f326d30a",
   "metadata": {},
   "outputs": [],
   "source": [
    "beta1Val = Beta1Fun(inpDf['AdvBudg'], inpDf['Sales'])"
   ]
  },
  {
   "cell_type": "code",
   "execution_count": 59,
   "id": "63c557f6",
   "metadata": {},
   "outputs": [
    {
     "data": {
      "text/plain": [
       "1.8951515151515153"
      ]
     },
     "execution_count": 59,
     "metadata": {},
     "output_type": "execute_result"
    }
   ],
   "source": [
    "beta1Val"
   ]
  },
  {
   "cell_type": "code",
   "execution_count": 60,
   "id": "629640e7",
   "metadata": {},
   "outputs": [],
   "source": [
    "beta0Val = inpDf['Sales'].mean() - beta1Val * inpDf['AdvBudg'].mean()"
   ]
  },
  {
   "cell_type": "code",
   "execution_count": 61,
   "id": "830e7b8b",
   "metadata": {},
   "outputs": [
    {
     "data": {
      "text/plain": [
       "506.66666666666606"
      ]
     },
     "execution_count": 61,
     "metadata": {},
     "output_type": "execute_result"
    }
   ],
   "source": [
    "beta0Val"
   ]
  },
  {
   "cell_type": "code",
   "execution_count": 62,
   "id": "37689b71",
   "metadata": {},
   "outputs": [],
   "source": [
    "yPredVal = beta0Val + beta1Val * 15000"
   ]
  },
  {
   "cell_type": "code",
   "execution_count": 63,
   "id": "566ff981",
   "metadata": {},
   "outputs": [
    {
     "data": {
      "text/plain": [
       "28933.939393939392"
      ]
     },
     "execution_count": 63,
     "metadata": {},
     "output_type": "execute_result"
    }
   ],
   "source": [
    "yPredVal"
   ]
  },
  {
   "cell_type": "code",
   "execution_count": null,
   "id": "19ce64c5",
   "metadata": {},
   "outputs": [],
   "source": []
  },
  {
   "cell_type": "code",
   "execution_count": 64,
   "id": "d35c819d",
   "metadata": {},
   "outputs": [],
   "source": [
    "#EX6\n",
    "\n",
    "import numpy as np"
   ]
  },
  {
   "cell_type": "code",
   "execution_count": 67,
   "id": "44498bba",
   "metadata": {},
   "outputs": [
    {
     "data": {
      "text/plain": [
       "array([[105, 110, 115, 120, 125, 130],\n",
       "       [135, 140, 145, 150, 155, 160],\n",
       "       [165, 170, 175, 180, 185, 190]])"
      ]
     },
     "execution_count": 67,
     "metadata": {},
     "output_type": "execute_result"
    }
   ],
   "source": [
    "np.arange(105, 195, 5).reshape(3,6)"
   ]
  },
  {
   "cell_type": "code",
   "execution_count": 68,
   "id": "6d215dc4",
   "metadata": {},
   "outputs": [],
   "source": [
    "list = [3, 4, 5, 6, 7, 8]"
   ]
  },
  {
   "cell_type": "code",
   "execution_count": 70,
   "id": "bfa992b9",
   "metadata": {},
   "outputs": [],
   "source": [
    "arr1 = np.array(list)"
   ]
  },
  {
   "cell_type": "code",
   "execution_count": 71,
   "id": "701009df",
   "metadata": {},
   "outputs": [
    {
     "data": {
      "text/plain": [
       "array([3, 4, 5, 6, 7, 8])"
      ]
     },
     "execution_count": 71,
     "metadata": {},
     "output_type": "execute_result"
    }
   ],
   "source": [
    "arr1"
   ]
  },
  {
   "cell_type": "code",
   "execution_count": 72,
   "id": "53aa1ef7",
   "metadata": {},
   "outputs": [
    {
     "data": {
      "text/plain": [
       "5.5"
      ]
     },
     "execution_count": 72,
     "metadata": {},
     "output_type": "execute_result"
    }
   ],
   "source": [
    "np.mean(arr1)"
   ]
  },
  {
   "cell_type": "code",
   "execution_count": 73,
   "id": "090f156d",
   "metadata": {},
   "outputs": [
    {
     "data": {
      "text/plain": [
       "5.5"
      ]
     },
     "execution_count": 73,
     "metadata": {},
     "output_type": "execute_result"
    }
   ],
   "source": [
    "np.median(arr1)"
   ]
  },
  {
   "cell_type": "code",
   "execution_count": 74,
   "id": "392d1f01",
   "metadata": {},
   "outputs": [
    {
     "data": {
      "text/plain": [
       "1.707825127659933"
      ]
     },
     "execution_count": 74,
     "metadata": {},
     "output_type": "execute_result"
    }
   ],
   "source": [
    "np.std(arr1)"
   ]
  },
  {
   "cell_type": "code",
   "execution_count": 76,
   "id": "763b0746",
   "metadata": {},
   "outputs": [
    {
     "name": "stdout",
     "output_type": "stream",
     "text": [
      "[-1.46385011 -0.87831007 -0.29277002  0.29277002  0.87831007  1.46385011]\n"
     ]
    }
   ],
   "source": [
    "#ZSCORE\n",
    "print((arr1 - np.mean(arr1)) / np.std(arr1))\n",
    "\n",
    "#is the list minus the mean then divide by the standard deviation"
   ]
  },
  {
   "cell_type": "code",
   "execution_count": null,
   "id": "167feac0",
   "metadata": {},
   "outputs": [],
   "source": []
  }
 ],
 "metadata": {
  "kernelspec": {
   "display_name": "Python 3 (ipykernel)",
   "language": "python",
   "name": "python3"
  },
  "language_info": {
   "codemirror_mode": {
    "name": "ipython",
    "version": 3
   },
   "file_extension": ".py",
   "mimetype": "text/x-python",
   "name": "python",
   "nbconvert_exporter": "python",
   "pygments_lexer": "ipython3",
   "version": "3.11.5"
  }
 },
 "nbformat": 4,
 "nbformat_minor": 5
}
