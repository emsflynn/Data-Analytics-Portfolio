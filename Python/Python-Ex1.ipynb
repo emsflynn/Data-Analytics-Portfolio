{
 "cells": [
  {
   "cell_type": "code",
   "execution_count": null,
   "id": "365bb4ca",
   "metadata": {},
   "outputs": [],
   "source": [
    "#Starting out with Python, basic expressions\n",
    "#Exercise Sheet 1"
   ]
  },
  {
   "cell_type": "code",
   "execution_count": 2,
   "id": "222157f8",
   "metadata": {},
   "outputs": [
    {
     "name": "stdout",
     "output_type": "stream",
     "text": [
      "56\n"
     ]
    }
   ],
   "source": [
    "#Assign to the ‘’yVal’’ variable the product of 7 and 8.\n",
    "yVal = 7*8\n",
    "print(yVal)"
   ]
  },
  {
   "cell_type": "code",
   "execution_count": 3,
   "id": "57fe82e5",
   "metadata": {},
   "outputs": [
    {
     "name": "stdout",
     "output_type": "stream",
     "text": [
      "The result is 56\n"
     ]
    }
   ],
   "source": [
    "#Display the result of ‘’yVal’’ using the print() function.\n",
    "print(\"The result is \" + str(yVal))\n",
    "\n",
    "#NOTE THE STR"
   ]
  },
  {
   "cell_type": "code",
   "execution_count": null,
   "id": "d42e1b35",
   "metadata": {},
   "outputs": [],
   "source": []
  },
  {
   "cell_type": "code",
   "execution_count": 4,
   "id": "2f8e4e43",
   "metadata": {},
   "outputs": [],
   "source": [
    "#Assign to the ‘’strVal’’ variable the word: Business Analytics.\n",
    "\n",
    "strVal = \"Business Analytics\""
   ]
  },
  {
   "cell_type": "code",
   "execution_count": 5,
   "id": "c7c2fc46",
   "metadata": {},
   "outputs": [
    {
     "data": {
      "text/plain": [
       "True"
      ]
     },
     "execution_count": 5,
     "metadata": {},
     "output_type": "execute_result"
    }
   ],
   "source": [
    "#Test if z is a member of ‘’strVal’’.\n",
    "\"z\" in strVal"
   ]
  },
  {
   "cell_type": "code",
   "execution_count": 15,
   "id": "99a735a0",
   "metadata": {},
   "outputs": [
    {
     "data": {
      "text/plain": [
       "True"
      ]
     },
     "execution_count": 15,
     "metadata": {},
     "output_type": "execute_result"
    }
   ],
   "source": [
    "#Test if u is a member of ‘’strVal’’\n",
    "\"u\" in strVal"
   ]
  },
  {
   "cell_type": "code",
   "execution_count": 7,
   "id": "3bfbd631",
   "metadata": {},
   "outputs": [
    {
     "name": "stdout",
     "output_type": "stream",
     "text": [
      "s\n",
      "18\n",
      "lytics\n",
      "Busine\n"
     ]
    }
   ],
   "source": [
    "#Display the 3rd letter of ‘’strVal’’\n",
    "#Display the number of characters in ‘’strVal’’.\n",
    "#Using slicing, only display the six last letters of ‘’strVal’’ starting from the beginning and from the end. \n",
    "print(strVal[2])\n",
    "print(len(strVal))\n",
    "print(strVal[12:])\n",
    "print(strVal[:6])"
   ]
  },
  {
   "cell_type": "code",
   "execution_count": 27,
   "id": "ac97afea",
   "metadata": {},
   "outputs": [
    {
     "name": "stdout",
     "output_type": "stream",
     "text": [
      "3\n",
      "6\n",
      "9\n",
      "12\n",
      "15\n",
      "18\n",
      "21\n"
     ]
    }
   ],
   "source": [
    "#-In a for loop, use ‘’cpt’’ counter to display values from 3 to 21 with step 3, using the print() function.\n",
    "\n",
    "for cpt in range(3,22,3):\n",
    "    print(cpt)\n",
    "\n",
    "#Note that even though it is asking for 3-21, I put 22"
   ]
  },
  {
   "cell_type": "code",
   "execution_count": 31,
   "id": "57b49314",
   "metadata": {},
   "outputs": [
    {
     "name": "stdout",
     "output_type": "stream",
     "text": [
      "100\n",
      "95\n",
      "90\n",
      "85\n",
      "80\n",
      "75\n",
      "70\n",
      "65\n",
      "60\n",
      "55\n",
      "50\n",
      "45\n",
      "40\n",
      "35\n",
      "30\n",
      "25\n",
      "20\n"
     ]
    }
   ],
   "source": [
    "#In a for loop, use ‘’cpt’’ counter to display values from 100 to 20 with step -5, using the print() function\n",
    "\n",
    "for cpt3 in reversed(range(20,101,5)):\n",
    "    print(cpt3)"
   ]
  },
  {
   "cell_type": "code",
   "execution_count": 9,
   "id": "2dc5b212",
   "metadata": {},
   "outputs": [
    {
     "name": "stdout",
     "output_type": "stream",
     "text": [
      "50\n",
      "45\n",
      "40\n",
      "35\n",
      "30\n",
      "25\n",
      "20\n"
     ]
    }
   ],
   "source": [
    "#In a while loop, use ‘’i’’ variable to display values from 50 to 20 with step -5, using the print() function\n",
    "i = 50\n",
    "while i >=20:\n",
    "    print(i)\n",
    "    i -=5"
   ]
  },
  {
   "cell_type": "code",
   "execution_count": 9,
   "id": "d6357b13",
   "metadata": {},
   "outputs": [
    {
     "name": "stdout",
     "output_type": "stream",
     "text": [
      "[1, 2, 3, 4, 'Hello', 5.4, 6]\n"
     ]
    }
   ],
   "source": [
    "#Create a list filled with the following values: 1, 2, 3, 4, Hello, 5.4, 6.\n",
    "my_list = [1, 2, 3, 4, \"Hello\", 5.4, 6]\n",
    "print(my_list)"
   ]
  },
  {
   "cell_type": "code",
   "execution_count": 10,
   "id": "b9257e57",
   "metadata": {},
   "outputs": [
    {
     "data": {
      "text/plain": [
       "False"
      ]
     },
     "execution_count": 10,
     "metadata": {},
     "output_type": "execute_result"
    }
   ],
   "source": [
    "#Test if 8 is a member of the list.\n",
    "8 in my_list"
   ]
  },
  {
   "cell_type": "code",
   "execution_count": 11,
   "id": "7ab8b859",
   "metadata": {},
   "outputs": [
    {
     "data": {
      "text/plain": [
       "True"
      ]
     },
     "execution_count": 11,
     "metadata": {},
     "output_type": "execute_result"
    }
   ],
   "source": [
    "#Test if Hello is a member of the list.\n",
    "\"Hello\" in my_list"
   ]
  },
  {
   "cell_type": "code",
   "execution_count": 12,
   "id": "b5098999",
   "metadata": {},
   "outputs": [
    {
     "data": {
      "text/plain": [
       "False"
      ]
     },
     "execution_count": 12,
     "metadata": {},
     "output_type": "execute_result"
    }
   ],
   "source": [
    "#Test if hello is a member of the list.\n",
    "\"hello\" in my_list"
   ]
  },
  {
   "cell_type": "code",
   "execution_count": 13,
   "id": "0b8ddb19",
   "metadata": {},
   "outputs": [
    {
     "name": "stdout",
     "output_type": "stream",
     "text": [
      "1\n",
      "2\n",
      "3\n",
      "4\n",
      "Hello\n",
      "5.4\n",
      "6\n"
     ]
    }
   ],
   "source": [
    "#-Display the elements of the list, parsing its indices with a for loop\n",
    "\n",
    "for cpt in range(len(my_list)):\n",
    "    print(my_list[cpt])"
   ]
  },
  {
   "cell_type": "code",
   "execution_count": 59,
   "id": "fca8a6cc",
   "metadata": {},
   "outputs": [
    {
     "name": "stdout",
     "output_type": "stream",
     "text": [
      "1\n",
      "2\n",
      "3\n",
      "4\n",
      "Hello\n",
      "5.4\n",
      "6\n"
     ]
    }
   ],
   "source": [
    "#Display the elements of the list, parsing its elements with a for loop.\n",
    "\n",
    "for elt in my_list:\n",
    "    print(elt)"
   ]
  },
  {
   "cell_type": "code",
   "execution_count": 14,
   "id": "ad5c1487",
   "metadata": {},
   "outputs": [
    {
     "name": "stdout",
     "output_type": "stream",
     "text": [
      "[1, 2, 3, 4, 5]\n"
     ]
    }
   ],
   "source": [
    "#-Initialize a list and a variable.\n",
    "#Fill the list using a for loop with the integers from 1 to 5.\n",
    "#Display the list.\n",
    "\n",
    "lst1 = [] \n",
    "for i in range(1, 6):\n",
    "    lst1.append(i)\n",
    "\n",
    "print(lst1)"
   ]
  },
  {
   "cell_type": "code",
   "execution_count": 15,
   "id": "b2f37faa",
   "metadata": {},
   "outputs": [
    {
     "name": "stdout",
     "output_type": "stream",
     "text": [
      "[1, 2, 3, 4, 5]\n"
     ]
    }
   ],
   "source": [
    "#-Fill a list comprehension using a for loop with the integers from 1 to 5.\n",
    "lst2 = [i for i in range(1,6)]\n",
    "print(lst2)"
   ]
  },
  {
   "cell_type": "code",
   "execution_count": 16,
   "id": "df449566",
   "metadata": {},
   "outputs": [
    {
     "name": "stdout",
     "output_type": "stream",
     "text": [
      "[1, 2, 3, 4, 5, 6, 7, 8]\n"
     ]
    }
   ],
   "source": [
    "#-Initialize a list and a variable.\n",
    "#Fill the list using a while loop with the integers from 1 to 8.\n",
    "#Display the list.\n",
    "\n",
    "val = 1\n",
    "tmpLst = []\n",
    "while val < 9:\n",
    "    tmpLst.append(val)\n",
    "    val += 1\n",
    "    \n",
    "print(tmpLst)"
   ]
  },
  {
   "cell_type": "code",
   "execution_count": 67,
   "id": "3bc6253c",
   "metadata": {},
   "outputs": [
    {
     "name": "stdout",
     "output_type": "stream",
     "text": [
      "[20, 22, 24, 26, 28, 30]\n"
     ]
    }
   ],
   "source": [
    "#NAME THE LIST.APPEND(WHAT UR ADDING)       20-30 with a step of 2\n",
    "\n",
    "val = 20\n",
    "tmpLst2 = []\n",
    "while val <= 30:\n",
    "    tmpLst2.append(val)\n",
    "    val += 2\n",
    "    \n",
    "print(tmpLst2)"
   ]
  },
  {
   "cell_type": "code",
   "execution_count": 20,
   "id": "35eeb880",
   "metadata": {},
   "outputs": [
    {
     "name": "stdout",
     "output_type": "stream",
     "text": [
      "[1, 3, 5]\n",
      "[7, 8, 9, 10]\n"
     ]
    }
   ],
   "source": [
    "#CAN ALSO BE DONE IN THIS WAY\n",
    "\n",
    "tmpLst1 = [elt for elt in range(1, 7,2)] \n",
    "tmpLst2 = [elt for elt in range(7, 11)]\n",
    "\n",
    "print(tmpLst1)\n",
    "print(tmpLst2)"
   ]
  },
  {
   "cell_type": "code",
   "execution_count": 74,
   "id": "2215c2c4",
   "metadata": {},
   "outputs": [
    {
     "name": "stdout",
     "output_type": "stream",
     "text": [
      "[1, 2, 3, 4, 5, 6, 7, 8, 9, 10]\n"
     ]
    }
   ],
   "source": [
    "#Extend ‘’tmpLst1’’ with ‘’tmpLst2’’ values and display it.\n",
    "tmpLst1.extend(tmpLst2)\n",
    "print(tmpLst1)"
   ]
  },
  {
   "cell_type": "code",
   "execution_count": null,
   "id": "51c13eac",
   "metadata": {},
   "outputs": [],
   "source": []
  },
  {
   "cell_type": "code",
   "execution_count": 77,
   "id": "0c2fa4b3",
   "metadata": {},
   "outputs": [
    {
     "name": "stdout",
     "output_type": "stream",
     "text": [
      "[10, 9, 8, 7, 6, 5, 4, 3, 2, 1]\n"
     ]
    }
   ],
   "source": [
    "#Order “tmpLst1” by descending order and display it.\n",
    "tmpLst1.sort(reverse=True)\n",
    "print(tmpLst1)"
   ]
  },
  {
   "cell_type": "code",
   "execution_count": 78,
   "id": "bd784feb",
   "metadata": {},
   "outputs": [
    {
     "name": "stdout",
     "output_type": "stream",
     "text": [
      "[10, 9, 8, 7, 100, 6, 5, 4, 3, 2, 1]\n"
     ]
    }
   ],
   "source": [
    "#Insert the value 100 between the numbers 6 and 7 and display it.\n",
    "tmpLst1.insert(4, 100)\n",
    "print(tmpLst1)\n",
    "\n",
    "#REMEMBER TO START ON 0 WHEN COUNTING"
   ]
  },
  {
   "cell_type": "code",
   "execution_count": 79,
   "id": "9946d825",
   "metadata": {},
   "outputs": [
    {
     "name": "stdout",
     "output_type": "stream",
     "text": [
      "[10, 9, 8, 100, 6, 5, 4, 3, 2, 1]\n"
     ]
    }
   ],
   "source": [
    "#Remove the value 7 with the function “remove”.\n",
    "tmpLst1.remove(7)\n",
    "print(tmpLst1)\n",
    "\n",
    "#'remove' removes the number"
   ]
  },
  {
   "cell_type": "code",
   "execution_count": 80,
   "id": "749c5c7e",
   "metadata": {},
   "outputs": [
    {
     "name": "stdout",
     "output_type": "stream",
     "text": [
      "[10, 9, 8, 6, 5, 4, 3, 2, 1]\n"
     ]
    }
   ],
   "source": [
    "#Remove the value 100 with the function “pop”.\n",
    "tmpLst1.pop(3)\n",
    "print(tmpLst1)\n",
    "\n",
    "#'pop' removes the position"
   ]
  },
  {
   "cell_type": "code",
   "execution_count": 81,
   "id": "d921bc34",
   "metadata": {},
   "outputs": [
    {
     "name": "stdout",
     "output_type": "stream",
     "text": [
      "[10, 9, 8, 6, 4, 3, 2, 1]\n"
     ]
    }
   ],
   "source": [
    "#Remove the value 5 with the function del.\n",
    "del tmpLst1[4]\n",
    "print(tmpLst1)\n",
    "\n",
    "#'del' removes position again starting at 0"
   ]
  },
  {
   "cell_type": "code",
   "execution_count": 21,
   "id": "ad952a5a",
   "metadata": {},
   "outputs": [],
   "source": [
    "lsta = [11, 12, 13, 14, 15]\n",
    "lstb = [24, 27, 30, 33, 36]"
   ]
  },
  {
   "cell_type": "code",
   "execution_count": 22,
   "id": "ca3b61d7",
   "metadata": {},
   "outputs": [
    {
     "name": "stdout",
     "output_type": "stream",
     "text": [
      "432\n",
      "429\n",
      "468\n",
      "420\n",
      "462\n",
      "504\n",
      "405\n",
      "450\n",
      "495\n",
      "540\n"
     ]
    }
   ],
   "source": [
    "#-Using 2 nested for loops, parse the 2 lists and only display the multiplications greater than 400\n",
    "\n",
    "for i in lsta:\n",
    "    for j in lstb:\n",
    "        if i * j > 400:\n",
    "            print(i * j)"
   ]
  },
  {
   "cell_type": "code",
   "execution_count": null,
   "id": "ed95d547",
   "metadata": {},
   "outputs": [],
   "source": []
  },
  {
   "cell_type": "code",
   "execution_count": 86,
   "id": "cc82674a",
   "metadata": {},
   "outputs": [
    {
     "name": "stdout",
     "output_type": "stream",
     "text": [
      "[11, 12, 13]\n"
     ]
    }
   ],
   "source": [
    "#Create Listc and Remove the duplicates of “litc” using set. \n",
    "\n",
    "listc = [11, 12, 11, 13, 12]\n",
    "listc = list(set(listc))\n",
    "print(listc)"
   ]
  },
  {
   "cell_type": "code",
   "execution_count": null,
   "id": "95665db4",
   "metadata": {},
   "outputs": [],
   "source": []
  },
  {
   "cell_type": "code",
   "execution_count": 24,
   "id": "44702a8c",
   "metadata": {},
   "outputs": [
    {
     "name": "stdout",
     "output_type": "stream",
     "text": [
      "['newspaper', 9.2, 4, 'pi']\n"
     ]
    }
   ],
   "source": [
    "my_list = [\"newspaper\", 9.2, 4, \"pi\"]\n",
    "print(my_list)"
   ]
  },
  {
   "cell_type": "code",
   "execution_count": 25,
   "id": "48027c8d",
   "metadata": {},
   "outputs": [
    {
     "name": "stdout",
     "output_type": "stream",
     "text": [
      "newspaper 9.2\n"
     ]
    }
   ],
   "source": [
    "#Concatenate the first two elements using their indexes into a “mytext” variable\n",
    "mytext = my_list[0] + \" \" + str(my_list[1])\n",
    "print(mytext)"
   ]
  },
  {
   "cell_type": "code",
   "execution_count": 99,
   "id": "ac36201f",
   "metadata": {},
   "outputs": [
    {
     "data": {
      "text/plain": [
       "'ne'"
      ]
     },
     "execution_count": 99,
     "metadata": {},
     "output_type": "execute_result"
    }
   ],
   "source": [
    "#Print the first two elements of “mytext”\n",
    "mytext[:2]\n",
    "#or\n",
    "mytext[0:2]"
   ]
  },
  {
   "cell_type": "code",
   "execution_count": 101,
   "id": "b32c38b5",
   "metadata": {},
   "outputs": [
    {
     "data": {
      "text/plain": [
       "'wspaper 9.2'"
      ]
     },
     "execution_count": 101,
     "metadata": {},
     "output_type": "execute_result"
    }
   ],
   "source": [
    "#Print the last elements of “mytext”, starting with the third element\n",
    "mytext[2:]"
   ]
  },
  {
   "cell_type": "code",
   "execution_count": 102,
   "id": "df8d977d",
   "metadata": {},
   "outputs": [
    {
     "data": {
      "text/plain": [
       "'2'"
      ]
     },
     "execution_count": 102,
     "metadata": {},
     "output_type": "execute_result"
    }
   ],
   "source": [
    "#Print the last element of the list\n",
    "mytext[-1]"
   ]
  },
  {
   "cell_type": "code",
   "execution_count": null,
   "id": "c010549a",
   "metadata": {},
   "outputs": [],
   "source": []
  },
  {
   "cell_type": "code",
   "execution_count": 103,
   "id": "1ba5e02c",
   "metadata": {},
   "outputs": [
    {
     "name": "stdout",
     "output_type": "stream",
     "text": [
      "{'name': 'John', 'age': 21, 'city': 'Dublin'}\n"
     ]
    }
   ],
   "source": [
    "#Creating dictionary\n",
    "\n",
    "my_dict = {'name':'John', 'age':21, 'city':'Dublin'}\n",
    "print(my_dict)\n",
    "\n",
    "#Note the {} for dictionary"
   ]
  },
  {
   "cell_type": "code",
   "execution_count": 104,
   "id": "c0227ef9",
   "metadata": {},
   "outputs": [
    {
     "data": {
      "text/plain": [
       "'John'"
      ]
     },
     "execution_count": 104,
     "metadata": {},
     "output_type": "execute_result"
    }
   ],
   "source": [
    "my_dict[\"name\"]"
   ]
  },
  {
   "cell_type": "code",
   "execution_count": 105,
   "id": "7232624a",
   "metadata": {
    "scrolled": true
   },
   "outputs": [
    {
     "name": "stdout",
     "output_type": "stream",
     "text": [
      "dict_keys(['name', 'age', 'city'])\n"
     ]
    }
   ],
   "source": [
    "print(my_dict.keys())"
   ]
  },
  {
   "cell_type": "code",
   "execution_count": 106,
   "id": "0f3259b8",
   "metadata": {},
   "outputs": [
    {
     "name": "stdout",
     "output_type": "stream",
     "text": [
      "dict_items([('name', 'John'), ('age', 21), ('city', 'Dublin')])\n"
     ]
    }
   ],
   "source": [
    "print(my_dict.items())"
   ]
  },
  {
   "cell_type": "code",
   "execution_count": 107,
   "id": "dcc0de07",
   "metadata": {},
   "outputs": [
    {
     "name": "stdout",
     "output_type": "stream",
     "text": [
      "name John\n",
      "age 21\n",
      "city Dublin\n"
     ]
    }
   ],
   "source": [
    "#Using a for loop, print all the keys and values of the dictionary.\n",
    "\n",
    "for key, value in my_dict.items():\n",
    "    print(key,value)"
   ]
  },
  {
   "cell_type": "code",
   "execution_count": 110,
   "id": "2869d426",
   "metadata": {},
   "outputs": [
    {
     "name": "stdout",
     "output_type": "stream",
     "text": [
      "{'name': 'John', 'age': 21, 'city': 'Dublin', 'country': 'Ireland'}\n"
     ]
    }
   ],
   "source": [
    "#Add a new key-value pair for County/Ireland, and print “my_dict”.\n",
    "\n",
    "my_dict[\"country\"] = \"Ireland\"\n",
    "print(my_dict)"
   ]
  },
  {
   "cell_type": "code",
   "execution_count": null,
   "id": "107d3d86",
   "metadata": {},
   "outputs": [],
   "source": []
  },
  {
   "cell_type": "code",
   "execution_count": 117,
   "id": "9f6b3af5",
   "metadata": {},
   "outputs": [
    {
     "name": "stdout",
     "output_type": "stream",
     "text": [
      "{1: ['John', 21, 'Dublin', 'Ireland'], 2: ['Jack', 22, 'London', 'England'], 3: ['Iris', 21, 'Cork', 'Ireland']}\n"
     ]
    }
   ],
   "source": [
    "#Create a second dictionary\n",
    "my_dict2 = {1:['John', 21, 'Dublin', 'Ireland'],\n",
    "             2:['Jack', 22, 'London', 'England'],\n",
    "             3:['Iris', 21, 'Cork', 'Ireland']}\n",
    "\n",
    "print(my_dict2)"
   ]
  },
  {
   "cell_type": "code",
   "execution_count": 119,
   "id": "6972e627",
   "metadata": {},
   "outputs": [
    {
     "data": {
      "text/plain": [
       "['Jack', 22, 'London', 'England']"
      ]
     },
     "execution_count": 119,
     "metadata": {},
     "output_type": "execute_result"
    }
   ],
   "source": [
    "#Print the values of 2\n",
    "\n",
    "my_dict2[2]"
   ]
  },
  {
   "cell_type": "code",
   "execution_count": 120,
   "id": "534bc3b6",
   "metadata": {},
   "outputs": [
    {
     "name": "stdout",
     "output_type": "stream",
     "text": [
      "{1: ['John', 21, 'Dublin', 'Ireland'], 2: ['Jack', 22, 'London', 'England'], 3: ['Iris', 21, 'Cork', 'Ireland'], 4: ['Dan', 20, 'Dublin', 'Ireland']}\n"
     ]
    }
   ],
   "source": [
    "#-Add a new key-value pair for 4/[Dan, 20, Dublin, Ireland], and print “my_dict2”\n",
    "\n",
    "my_dict2[4] = ['Dan', 20, 'Dublin', 'Ireland']\n",
    "print(my_dict2)\n",
    "\n",
    "#this is how i add another key/value pair\n"
   ]
  },
  {
   "cell_type": "code",
   "execution_count": 122,
   "id": "30d9dab8",
   "metadata": {},
   "outputs": [
    {
     "name": "stdout",
     "output_type": "stream",
     "text": [
      "{1: ['John', 21, 'Dublin', 'Ireland'], 3: ['Iris', 21, 'Cork', 'Ireland'], 4: ['Dan', 20, 'Dublin', 'Ireland']}\n"
     ]
    }
   ],
   "source": [
    "#Remove the key-value pair 2 with the function del\n",
    "del my_dict2[2]\n",
    "print(my_dict2)"
   ]
  },
  {
   "cell_type": "code",
   "execution_count": null,
   "id": "d882dfe7",
   "metadata": {},
   "outputs": [],
   "source": []
  },
  {
   "cell_type": "code",
   "execution_count": 145,
   "id": "6f23cac9",
   "metadata": {},
   "outputs": [
    {
     "name": "stdout",
     "output_type": "stream",
     "text": [
      "12.0\n"
     ]
    }
   ],
   "source": [
    "#-Using a for loop, compute the mean of the following list: [12, 15, 6, 13, 12, 18, 2, 15, 8, 9, 16, 14, 16]\n",
    "\n",
    "lsta = [12, 15, 6, 13, 12, 18, 2, 15, 8, 9, 16, 14, 16]\n",
    "\n",
    "def MeanVal(lst):\n",
    "    num = 0\n",
    "    cpt = 0 \n",
    "    for elt in lst: \n",
    "        num += elt\n",
    "        cpt += 1\n",
    "    return(num / cpt)\n",
    "\n",
    "print(MeanVal(lsta))"
   ]
  },
  {
   "cell_type": "code",
   "execution_count": 146,
   "id": "4fe5d855",
   "metadata": {},
   "outputs": [
    {
     "name": "stdout",
     "output_type": "stream",
     "text": [
      "12.0\n"
     ]
    }
   ],
   "source": [
    "#alternative version for mean\n",
    "\n",
    "def MeanVal(lst):\n",
    "    num = 0\n",
    "    for elt in lst: \n",
    "        num += elt\n",
    "    return(num / len(lst))\n",
    "\n",
    "print(MeanVal(lsta))"
   ]
  },
  {
   "cell_type": "code",
   "execution_count": 28,
   "id": "a80cac9e",
   "metadata": {},
   "outputs": [
    {
     "name": "stdout",
     "output_type": "stream",
     "text": [
      "12.0\n"
     ]
    }
   ],
   "source": [
    "#Same question but create a function to compute the mean and call it for the list defined above\n",
    "\n",
    "lsta = [12, 15, 6, 13, 12, 18, 2, 15, 8, 9, 16, 14, 16]\n",
    "\n",
    "def MeanVal(lst):\n",
    "    num=0\n",
    "    cpt=0\n",
    "    for elt in lst:\n",
    "        "
   ]
  },
  {
   "cell_type": "code",
   "execution_count": null,
   "id": "9a6e5fa8",
   "metadata": {},
   "outputs": [],
   "source": []
  }
 ],
 "metadata": {
  "kernelspec": {
   "display_name": "Python 3 (ipykernel)",
   "language": "python",
   "name": "python3"
  },
  "language_info": {
   "codemirror_mode": {
    "name": "ipython",
    "version": 3
   },
   "file_extension": ".py",
   "mimetype": "text/x-python",
   "name": "python",
   "nbconvert_exporter": "python",
   "pygments_lexer": "ipython3",
   "version": "3.11.5"
  }
 },
 "nbformat": 4,
 "nbformat_minor": 5
}
