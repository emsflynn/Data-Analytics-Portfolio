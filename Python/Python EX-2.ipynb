{
 "cells": [
  {
   "cell_type": "code",
   "execution_count": 4,
   "id": "49bb5031",
   "metadata": {},
   "outputs": [
    {
     "name": "stdout",
     "output_type": "stream",
     "text": [
      "[0 1 2 3]\n"
     ]
    }
   ],
   "source": [
    "#NUMPY operations\n",
    "#Exercise Sheet 2"
   ]
  },
  {
   "cell_type": "code",
   "execution_count": 6,
   "id": "f7af9439",
   "metadata": {},
   "outputs": [
    {
     "name": "stdout",
     "output_type": "stream",
     "text": [
      "[0 1 2 3]\n",
      "[[1 2 3]\n",
      " [4 5 6]]\n"
     ]
    },
    {
     "data": {
      "text/plain": [
       "(2, 3)"
      ]
     },
     "execution_count": 6,
     "metadata": {},
     "output_type": "execute_result"
    }
   ],
   "source": [
    "#Assign to the ‘’a’’ variable a NumPy array containing this list: 1, 2, 3\n",
    "#Assign to the ‘’c’’ variable a NumPy array containing these lists: 1, 2, 3 and 4, 5, 6\n",
    "#Display the shape of ‘’c’’\n",
    "\n",
    "import numpy as np\n",
    "a = np.arange(4)\n",
    "print(a)\n",
    "\n",
    "c = np.array(([1,2,3,], [4,5,6]))\n",
    "print(c)\n",
    "\n",
    "c.shape"
   ]
  },
  {
   "cell_type": "code",
   "execution_count": 7,
   "id": "f1301c65",
   "metadata": {},
   "outputs": [
    {
     "name": "stdout",
     "output_type": "stream",
     "text": [
      "[[ 0  1  2  3]\n",
      " [ 4  5  6  7]\n",
      " [ 8  9 10 11]]\n",
      "[[[ 3  6]\n",
      "  [ 9 12]\n",
      "  [15 18]]\n",
      "\n",
      " [[21 24]\n",
      "  [27 30]\n",
      "  [33 36]]\n",
      "\n",
      " [[39 42]\n",
      "  [45 48]\n",
      "  [51 54]]\n",
      "\n",
      " [[57 60]\n",
      "  [63 66]\n",
      "  [69 72]]]\n"
     ]
    }
   ],
   "source": [
    "#Display a NumPy array having values from 0 to 11 with a step of 1 on 3 rows and 4 columns\n",
    "#Display a NumPy array having values from 3 to 75 with a step of 3 having 4 values on axis 0, 3 on\n",
    "#axis 1, and 2 on axis 2\n",
    "\n",
    "arr1 = np.arange(0,12).reshape(3,4)\n",
    "print(arr1)\n",
    "\n",
    "arr1 = np.arange(3,75,3).reshape(4,3,2)\n",
    "print(arr1)"
   ]
  },
  {
   "cell_type": "code",
   "execution_count": 8,
   "id": "cd1db242",
   "metadata": {},
   "outputs": [
    {
     "name": "stdout",
     "output_type": "stream",
     "text": [
      "[0.23433613 0.44979952 0.85117776]\n",
      "[[0.09086268 0.72187497 0.48789183]\n",
      " [0.55779018 0.36484195 0.80319062]\n",
      " [0.18216481 0.64820195 0.09054973]]\n"
     ]
    }
   ],
   "source": [
    "#Display a 1D NumPy array having 3 random values\n",
    "#Display a 2D NumPy array having 3 random values on each dimension\n",
    "\n",
    "arr1 = np.random.random(3)\n",
    "print(arr1)\n",
    "\n",
    "arr1 = np.random.random((3,3))\n",
    "print(arr1)"
   ]
  },
  {
   "cell_type": "code",
   "execution_count": 12,
   "id": "7371a145",
   "metadata": {},
   "outputs": [
    {
     "name": "stdout",
     "output_type": "stream",
     "text": [
      "[1 2 3 4 5 6]\n",
      "3.5\n",
      "3.5\n",
      "1.707825127659933\n"
     ]
    }
   ],
   "source": [
    "#Create a list filled with the following values: 1, 2, 3, 4, 5, 6.\n",
    "#Transform the list to an array called arr1\n",
    "#Compute the mean, median, and standard deviation using NumPy\n",
    "\n",
    "lst = [1, 2, 3, 4, 5, 6]\n",
    "\n",
    "arr1 = np.array(lst)\n",
    "print(arr1)\n",
    "\n",
    "print(np.mean(arr1))\n",
    "print(np.median(arr1))\n",
    "print(np.std(arr1))"
   ]
  },
  {
   "cell_type": "code",
   "execution_count": 15,
   "id": "0fc4f43c",
   "metadata": {},
   "outputs": [
    {
     "name": "stdout",
     "output_type": "stream",
     "text": [
      "[100 200 300 400 500 600]\n"
     ]
    }
   ],
   "source": [
    "#Create a list filled with the following values: 100, 200, 300, 400, 500, 600.\n",
    "#Transform the list to an array called arr2\n",
    "\n",
    "lst1 = [100, 200, 300, 400, 500, 600]\n",
    "\n",
    "arr2 = np.array(lst1)\n",
    "print(arr2)"
   ]
  },
  {
   "cell_type": "code",
   "execution_count": 16,
   "id": "a755d085",
   "metadata": {},
   "outputs": [
    {
     "data": {
      "text/plain": [
       "array([[1., 1.],\n",
       "       [1., 1.]])"
      ]
     },
     "execution_count": 16,
     "metadata": {},
     "output_type": "execute_result"
    }
   ],
   "source": [
    "#-Compute the covariance and the correlation of arr1 & arr2 \n",
    "\n",
    "np.cov(arr1,arr2)\n",
    "np.corrcoef(arr1,arr2)"
   ]
  },
  {
   "cell_type": "code",
   "execution_count": 17,
   "id": "f6ec573f",
   "metadata": {},
   "outputs": [
    {
     "name": "stdout",
     "output_type": "stream",
     "text": [
      "1.24.3\n"
     ]
    }
   ],
   "source": [
    "#-Write a program to check the NumPy version installed on your machine\n",
    "print(np.__version__)"
   ]
  },
  {
   "cell_type": "code",
   "execution_count": null,
   "id": "273682d8",
   "metadata": {},
   "outputs": [],
   "source": []
  }
 ],
 "metadata": {
  "kernelspec": {
   "display_name": "Python 3 (ipykernel)",
   "language": "python",
   "name": "python3"
  },
  "language_info": {
   "codemirror_mode": {
    "name": "ipython",
    "version": 3
   },
   "file_extension": ".py",
   "mimetype": "text/x-python",
   "name": "python",
   "nbconvert_exporter": "python",
   "pygments_lexer": "ipython3",
   "version": "3.11.5"
  }
 },
 "nbformat": 4,
 "nbformat_minor": 5
}
