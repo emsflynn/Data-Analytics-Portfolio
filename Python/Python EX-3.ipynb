{
 "cells": [
  {
   "cell_type": "code",
   "execution_count": 35,
   "id": "6d7eec07",
   "metadata": {},
   "outputs": [],
   "source": [
    "#Working with Pandas Dataframes\n",
    "#Exercise Sheet 3"
   ]
  },
  {
   "cell_type": "code",
   "execution_count": 36,
   "id": "e978712b",
   "metadata": {},
   "outputs": [],
   "source": [
    "import pandas as pd"
   ]
  },
  {
   "cell_type": "code",
   "execution_count": 37,
   "id": "ca7f57bd",
   "metadata": {},
   "outputs": [
    {
     "data": {
      "text/html": [
       "<div>\n",
       "<style scoped>\n",
       "    .dataframe tbody tr th:only-of-type {\n",
       "        vertical-align: middle;\n",
       "    }\n",
       "\n",
       "    .dataframe tbody tr th {\n",
       "        vertical-align: top;\n",
       "    }\n",
       "\n",
       "    .dataframe thead th {\n",
       "        text-align: right;\n",
       "    }\n",
       "</style>\n",
       "<table border=\"1\" class=\"dataframe\">\n",
       "  <thead>\n",
       "    <tr style=\"text-align: right;\">\n",
       "      <th></th>\n",
       "      <th>Population</th>\n",
       "      <th>GDP (mil. $)</th>\n",
       "      <th>Avg. inc. ($, PPP)</th>\n",
       "    </tr>\n",
       "  </thead>\n",
       "  <tbody>\n",
       "    <tr>\n",
       "      <th>0</th>\n",
       "      <td>339996563</td>\n",
       "      <td>26854599</td>\n",
       "      <td>46625</td>\n",
       "    </tr>\n",
       "    <tr>\n",
       "      <th>1</th>\n",
       "      <td>1425671352</td>\n",
       "      <td>19373586</td>\n",
       "      <td>4484</td>\n",
       "    </tr>\n",
       "    <tr>\n",
       "      <th>2</th>\n",
       "      <td>123294513</td>\n",
       "      <td>4409738</td>\n",
       "      <td>21694</td>\n",
       "    </tr>\n",
       "  </tbody>\n",
       "</table>\n",
       "</div>"
      ],
      "text/plain": [
       "   Population  GDP (mil. $)  Avg. inc. ($, PPP)\n",
       "0   339996563      26854599               46625\n",
       "1  1425671352      19373586                4484\n",
       "2   123294513       4409738               21694"
      ]
     },
     "execution_count": 37,
     "metadata": {},
     "output_type": "execute_result"
    }
   ],
   "source": [
    "#Create Dataframe\n",
    "\n",
    "df = pd.DataFrame([[339996563, 26854599, 46625], \n",
    "                   [1425671352, 19373586, 4484],\n",
    "                   [123294513, 4409738, 21694]],\n",
    "                   columns=['Population', 'GDP (mil. $)', 'Avg. inc. ($, PPP)' ])\n",
    "\n",
    "df"
   ]
  },
  {
   "cell_type": "code",
   "execution_count": 38,
   "id": "b9563e03",
   "metadata": {},
   "outputs": [
    {
     "name": "stdout",
     "output_type": "stream",
     "text": [
      "   Population    GDP (mil. $)  Avg. inc. ($, PPP)\n",
      "0   339996563  26854599000000               46625\n",
      "1  1425671352  19373586000000                4484\n",
      "2   123294513   4409738000000               21694\n"
     ]
    }
   ],
   "source": [
    "#Multiply by one million all the values of the GDP (mil. $) column\n",
    "\n",
    "df.loc[:, ['GDP (mil. $)']] *=1000000          #NOTE THE *=\n",
    "print(df)"
   ]
  },
  {
   "cell_type": "code",
   "execution_count": 39,
   "id": "7dc0d108",
   "metadata": {},
   "outputs": [
    {
     "data": {
      "text/html": [
       "<div>\n",
       "<style scoped>\n",
       "    .dataframe tbody tr th:only-of-type {\n",
       "        vertical-align: middle;\n",
       "    }\n",
       "\n",
       "    .dataframe tbody tr th {\n",
       "        vertical-align: top;\n",
       "    }\n",
       "\n",
       "    .dataframe thead th {\n",
       "        text-align: right;\n",
       "    }\n",
       "</style>\n",
       "<table border=\"1\" class=\"dataframe\">\n",
       "  <thead>\n",
       "    <tr style=\"text-align: right;\">\n",
       "      <th></th>\n",
       "      <th>Population</th>\n",
       "      <th>GDP ($)</th>\n",
       "      <th>Avg. inc. ($, PPP)</th>\n",
       "    </tr>\n",
       "  </thead>\n",
       "  <tbody>\n",
       "    <tr>\n",
       "      <th>0</th>\n",
       "      <td>339996563</td>\n",
       "      <td>26854599000000</td>\n",
       "      <td>46625</td>\n",
       "    </tr>\n",
       "    <tr>\n",
       "      <th>1</th>\n",
       "      <td>1425671352</td>\n",
       "      <td>19373586000000</td>\n",
       "      <td>4484</td>\n",
       "    </tr>\n",
       "    <tr>\n",
       "      <th>2</th>\n",
       "      <td>123294513</td>\n",
       "      <td>4409738000000</td>\n",
       "      <td>21694</td>\n",
       "    </tr>\n",
       "  </tbody>\n",
       "</table>\n",
       "</div>"
      ],
      "text/plain": [
       "   Population         GDP ($)  Avg. inc. ($, PPP)\n",
       "0   339996563  26854599000000               46625\n",
       "1  1425671352  19373586000000                4484\n",
       "2   123294513   4409738000000               21694"
      ]
     },
     "execution_count": 39,
     "metadata": {},
     "output_type": "execute_result"
    }
   ],
   "source": [
    "#-Rename the column GDP (mil. $) into GDP ($)\n",
    "\n",
    "df.rename(columns={'GDP (mil. $)' : 'GDP ($)'}, inplace=True)\n",
    "df"
   ]
  },
  {
   "cell_type": "code",
   "execution_count": 40,
   "id": "12e08836",
   "metadata": {
    "scrolled": true
   },
   "outputs": [
    {
     "data": {
      "text/html": [
       "<div>\n",
       "<style scoped>\n",
       "    .dataframe tbody tr th:only-of-type {\n",
       "        vertical-align: middle;\n",
       "    }\n",
       "\n",
       "    .dataframe tbody tr th {\n",
       "        vertical-align: top;\n",
       "    }\n",
       "\n",
       "    .dataframe thead th {\n",
       "        text-align: right;\n",
       "    }\n",
       "</style>\n",
       "<table border=\"1\" class=\"dataframe\">\n",
       "  <thead>\n",
       "    <tr style=\"text-align: right;\">\n",
       "      <th></th>\n",
       "      <th>Population</th>\n",
       "      <th>GDP ($)</th>\n",
       "      <th>Avg. inc. ($, PPP)</th>\n",
       "      <th>GDP per cap</th>\n",
       "    </tr>\n",
       "  </thead>\n",
       "  <tbody>\n",
       "    <tr>\n",
       "      <th>0</th>\n",
       "      <td>339996563</td>\n",
       "      <td>26854599000000</td>\n",
       "      <td>46625</td>\n",
       "      <td>78984.913150</td>\n",
       "    </tr>\n",
       "    <tr>\n",
       "      <th>1</th>\n",
       "      <td>1425671352</td>\n",
       "      <td>19373586000000</td>\n",
       "      <td>4484</td>\n",
       "      <td>13589.096795</td>\n",
       "    </tr>\n",
       "    <tr>\n",
       "      <th>2</th>\n",
       "      <td>123294513</td>\n",
       "      <td>4409738000000</td>\n",
       "      <td>21694</td>\n",
       "      <td>35765.890085</td>\n",
       "    </tr>\n",
       "  </tbody>\n",
       "</table>\n",
       "</div>"
      ],
      "text/plain": [
       "   Population         GDP ($)  Avg. inc. ($, PPP)   GDP per cap\n",
       "0   339996563  26854599000000               46625  78984.913150\n",
       "1  1425671352  19373586000000                4484  13589.096795\n",
       "2   123294513   4409738000000               21694  35765.890085"
      ]
     },
     "execution_count": 40,
     "metadata": {},
     "output_type": "execute_result"
    }
   ],
   "source": [
    "#Add a new column labeled ‘GDP per Cap.’ that contains the GDP per inhabitant.\n",
    "\n",
    "df['GDP per cap'] = df['GDP ($)'] / df['Population']\n",
    "df"
   ]
  },
  {
   "cell_type": "code",
   "execution_count": null,
   "id": "8217e137",
   "metadata": {},
   "outputs": [],
   "source": []
  },
  {
   "cell_type": "code",
   "execution_count": 44,
   "id": "158989a1",
   "metadata": {},
   "outputs": [],
   "source": [
    "#Create a variable called inpPath and assign it with the path to the file ‘Input File Pandas Ex3.csv’.\n",
    "#Import ‘Input File Pandas Ex3.csv’ in a Pandas DataFrame, called inpDf; set the delimiter, the header,\n",
    "#and the index.\n",
    "#Set the index of df as the index of inpDf\n",
    "#Create a Pandas DataFrame called outDf in which inpDf and the ‘GDP per Cap.’ column of df are\n",
    "#concatenated using the right axis.\n",
    "\n",
    "inPath = '/Users/emsfl/Downloads/'"
   ]
  },
  {
   "cell_type": "code",
   "execution_count": 45,
   "id": "eafac741",
   "metadata": {},
   "outputs": [],
   "source": [
    "inpDf = pd.read_csv(inPath + 'Input File Pandas Ex3..csv', delimiter=',', header=0, index_col=0)"
   ]
  },
  {
   "cell_type": "code",
   "execution_count": 46,
   "id": "d4dc05c4",
   "metadata": {},
   "outputs": [
    {
     "data": {
      "text/html": [
       "<div>\n",
       "<style scoped>\n",
       "    .dataframe tbody tr th:only-of-type {\n",
       "        vertical-align: middle;\n",
       "    }\n",
       "\n",
       "    .dataframe tbody tr th {\n",
       "        vertical-align: top;\n",
       "    }\n",
       "\n",
       "    .dataframe thead th {\n",
       "        text-align: right;\n",
       "    }\n",
       "</style>\n",
       "<table border=\"1\" class=\"dataframe\">\n",
       "  <thead>\n",
       "    <tr style=\"text-align: right;\">\n",
       "      <th></th>\n",
       "      <th>Population</th>\n",
       "      <th>GDP (mil. $)</th>\n",
       "      <th>Avg. inc. ($, PPP)</th>\n",
       "    </tr>\n",
       "    <tr>\n",
       "      <th>Countries</th>\n",
       "      <th></th>\n",
       "      <th></th>\n",
       "      <th></th>\n",
       "    </tr>\n",
       "  </thead>\n",
       "  <tbody>\n",
       "    <tr>\n",
       "      <th>USA</th>\n",
       "      <td>339996563</td>\n",
       "      <td>26854599</td>\n",
       "      <td>46625</td>\n",
       "    </tr>\n",
       "    <tr>\n",
       "      <th>China</th>\n",
       "      <td>1425671352</td>\n",
       "      <td>19373586</td>\n",
       "      <td>4484</td>\n",
       "    </tr>\n",
       "    <tr>\n",
       "      <th>Japan</th>\n",
       "      <td>123294513</td>\n",
       "      <td>4409738</td>\n",
       "      <td>21694</td>\n",
       "    </tr>\n",
       "  </tbody>\n",
       "</table>\n",
       "</div>"
      ],
      "text/plain": [
       "           Population  GDP (mil. $)  Avg. inc. ($, PPP)\n",
       "Countries                                              \n",
       "USA         339996563      26854599               46625\n",
       "China      1425671352      19373586                4484\n",
       "Japan       123294513       4409738               21694"
      ]
     },
     "execution_count": 46,
     "metadata": {},
     "output_type": "execute_result"
    }
   ],
   "source": [
    "inpDf"
   ]
  },
  {
   "cell_type": "code",
   "execution_count": 47,
   "id": "e0f7f2c2",
   "metadata": {},
   "outputs": [
    {
     "data": {
      "text/html": [
       "<div>\n",
       "<style scoped>\n",
       "    .dataframe tbody tr th:only-of-type {\n",
       "        vertical-align: middle;\n",
       "    }\n",
       "\n",
       "    .dataframe tbody tr th {\n",
       "        vertical-align: top;\n",
       "    }\n",
       "\n",
       "    .dataframe thead th {\n",
       "        text-align: right;\n",
       "    }\n",
       "</style>\n",
       "<table border=\"1\" class=\"dataframe\">\n",
       "  <thead>\n",
       "    <tr style=\"text-align: right;\">\n",
       "      <th></th>\n",
       "      <th>Population</th>\n",
       "      <th>GDP (mil. $)</th>\n",
       "      <th>Avg. inc. ($, PPP)</th>\n",
       "      <th>GDP per cap</th>\n",
       "    </tr>\n",
       "    <tr>\n",
       "      <th>Countries</th>\n",
       "      <th></th>\n",
       "      <th></th>\n",
       "      <th></th>\n",
       "      <th></th>\n",
       "    </tr>\n",
       "  </thead>\n",
       "  <tbody>\n",
       "    <tr>\n",
       "      <th>USA</th>\n",
       "      <td>339996563</td>\n",
       "      <td>26854599</td>\n",
       "      <td>46625</td>\n",
       "      <td>78984.913150</td>\n",
       "    </tr>\n",
       "    <tr>\n",
       "      <th>China</th>\n",
       "      <td>1425671352</td>\n",
       "      <td>19373586</td>\n",
       "      <td>4484</td>\n",
       "      <td>13589.096795</td>\n",
       "    </tr>\n",
       "    <tr>\n",
       "      <th>Japan</th>\n",
       "      <td>123294513</td>\n",
       "      <td>4409738</td>\n",
       "      <td>21694</td>\n",
       "      <td>35765.890085</td>\n",
       "    </tr>\n",
       "  </tbody>\n",
       "</table>\n",
       "</div>"
      ],
      "text/plain": [
       "           Population  GDP (mil. $)  Avg. inc. ($, PPP)   GDP per cap\n",
       "Countries                                                            \n",
       "USA         339996563      26854599               46625  78984.913150\n",
       "China      1425671352      19373586                4484  13589.096795\n",
       "Japan       123294513       4409738               21694  35765.890085"
      ]
     },
     "execution_count": 47,
     "metadata": {},
     "output_type": "execute_result"
    }
   ],
   "source": [
    "#Create a Pandas DataFrame called outDf in which inpDf and the ‘GDP per Cap.’ column of df are\n",
    "#concatenated using the right axis.\n",
    "\n",
    "df.set_index(inpDf.index, inplace=True)\n",
    "outDf = pd.concat([inpDf, df['GDP per cap']],axis=1)\n",
    "outDf"
   ]
  },
  {
   "cell_type": "code",
   "execution_count": 48,
   "id": "0c13c347",
   "metadata": {
    "scrolled": true
   },
   "outputs": [
    {
     "data": {
      "text/html": [
       "<div>\n",
       "<style scoped>\n",
       "    .dataframe tbody tr th:only-of-type {\n",
       "        vertical-align: middle;\n",
       "    }\n",
       "\n",
       "    .dataframe tbody tr th {\n",
       "        vertical-align: top;\n",
       "    }\n",
       "\n",
       "    .dataframe thead th {\n",
       "        text-align: right;\n",
       "    }\n",
       "</style>\n",
       "<table border=\"1\" class=\"dataframe\">\n",
       "  <thead>\n",
       "    <tr style=\"text-align: right;\">\n",
       "      <th></th>\n",
       "      <th>Population</th>\n",
       "      <th>GDP (mil. $)</th>\n",
       "      <th>Avg. inc. ($, PPP)</th>\n",
       "      <th>GDP per cap</th>\n",
       "    </tr>\n",
       "    <tr>\n",
       "      <th>Countries</th>\n",
       "      <th></th>\n",
       "      <th></th>\n",
       "      <th></th>\n",
       "      <th></th>\n",
       "    </tr>\n",
       "  </thead>\n",
       "  <tbody>\n",
       "    <tr>\n",
       "      <th>USA</th>\n",
       "      <td>339996563</td>\n",
       "      <td>26854599</td>\n",
       "      <td>46625</td>\n",
       "      <td>78984.913150</td>\n",
       "    </tr>\n",
       "    <tr>\n",
       "      <th>China</th>\n",
       "      <td>1425671352</td>\n",
       "      <td>19373586</td>\n",
       "      <td>4484</td>\n",
       "      <td>13589.096795</td>\n",
       "    </tr>\n",
       "    <tr>\n",
       "      <th>Japan</th>\n",
       "      <td>123294513</td>\n",
       "      <td>4409738</td>\n",
       "      <td>21694</td>\n",
       "      <td>35765.890085</td>\n",
       "    </tr>\n",
       "  </tbody>\n",
       "</table>\n",
       "</div>"
      ],
      "text/plain": [
       "           Population  GDP (mil. $)  Avg. inc. ($, PPP)   GDP per cap\n",
       "Countries                                                            \n",
       "USA         339996563      26854599               46625  78984.913150\n",
       "China      1425671352      19373586                4484  13589.096795\n",
       "Japan       123294513       4409738               21694  35765.890085"
      ]
     },
     "execution_count": 48,
     "metadata": {},
     "output_type": "execute_result"
    }
   ],
   "source": [
    "#Create a Pandas DataFrame called outDf in which inpDf and the ‘GDP per Cap.’ column of df are\n",
    "#concatenated using the right axis\n",
    "\n",
    "df.set_index(inpDf.index, inplace=True)\n",
    "outDf = pd.concat([inpDf, df['GDP per cap']],axis=1)\n",
    "outDf"
   ]
  },
  {
   "cell_type": "code",
   "execution_count": null,
   "id": "74094df1",
   "metadata": {},
   "outputs": [],
   "source": []
  },
  {
   "cell_type": "code",
   "execution_count": null,
   "id": "1d3efa49",
   "metadata": {},
   "outputs": [],
   "source": []
  }
 ],
 "metadata": {
  "kernelspec": {
   "display_name": "Python 3 (ipykernel)",
   "language": "python",
   "name": "python3"
  },
  "language_info": {
   "codemirror_mode": {
    "name": "ipython",
    "version": 3
   },
   "file_extension": ".py",
   "mimetype": "text/x-python",
   "name": "python",
   "nbconvert_exporter": "python",
   "pygments_lexer": "ipython3",
   "version": "3.11.5"
  }
 },
 "nbformat": 4,
 "nbformat_minor": 5
}
