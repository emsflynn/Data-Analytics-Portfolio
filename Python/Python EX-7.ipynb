{
 "cells": [
  {
   "cell_type": "code",
   "execution_count": 1,
   "id": "27dc117a",
   "metadata": {},
   "outputs": [],
   "source": [
    "#Data Analyis/Data Management for Financial Data\n",
    "#Exercise Sheet 7"
   ]
  },
  {
   "cell_type": "code",
   "execution_count": null,
   "id": "784f2876",
   "metadata": {},
   "outputs": [],
   "source": [
    "import numpy as np"
   ]
  },
  {
   "cell_type": "code",
   "execution_count": 2,
   "id": "272c632b",
   "metadata": {},
   "outputs": [],
   "source": [
    "np.random.seed(42)"
   ]
  },
  {
   "cell_type": "code",
   "execution_count": 3,
   "id": "5673986f",
   "metadata": {},
   "outputs": [],
   "source": [
    "arrSize = 500"
   ]
  },
  {
   "cell_type": "code",
   "execution_count": 4,
   "id": "b855c0a9",
   "metadata": {},
   "outputs": [],
   "source": [
    "idArr = np.random.choice(np.arange(200, 1701), size=arrSize, replace=False)"
   ]
  },
  {
   "cell_type": "code",
   "execution_count": 5,
   "id": "0579d0a9",
   "metadata": {},
   "outputs": [
    {
     "name": "stdout",
     "output_type": "stream",
     "text": [
      "[1317  843  622  613  651  766 1602 1556 1575  459 1089 1633  985 1583\n",
      "  270 1508 1692 1486  633  251 1689 1204 1391 1450 1293  632 1653 1671\n",
      "  964 1527 1594 1287 1680 1026  420  539  623  628 1666  276 1242  639\n",
      " 1654 1065 1306  554  565  509  943  987 1406  743 1341 1408 1617  880\n",
      "  249  690  516 1105 1109  761  686  267 1012  693  510  974 1505  384\n",
      "  506 1345  993  489  907  900 1296  722  661 1131 1593  229  440  999\n",
      " 1018  265  802 1062 1201 1379  760  447  477 1603 1267  679  626  323\n",
      " 1370  594 1186 1249  996 1351  697  244  259 1121  223 1123  681  849\n",
      "  946  431  324  627  998  368  315 1289 1187 1503  944  615  341 1434\n",
      "  967  874 1218  662  828  278 1205 1439 1650  215  694  550 1200  474\n",
      " 1261  471  834  437 1445 1152 1248  918  522 1055 1081 1291 1350 1667\n",
      "  726 1514 1162  375  558  243  616  544 1227 1300  301  307 1690 1253\n",
      " 1312  580  444 1641  700  901  328  439  836 1521  682 1368  475  783\n",
      "  403  232  864 1696 1263  581 1274  778  831 1539  910 1483 1142  363\n",
      " 1110  497  956  605  955  782  620  664 1388 1140  392 1047  551 1059\n",
      "  263 1660  751 1098  461  542 1002  671  927  398  807 1058 1052 1302\n",
      "  418  653  230  256 1411 1246 1266  630 1572 1531 1206 1049 1288 1437\n",
      " 1207 1649  821 1268 1039  299  732  728 1547  826 1473 1672 1568  470\n",
      "  941 1444  817 1232  571  789 1168 1366 1034  436  797 1163 1646  959\n",
      "  791  408  962 1100  553  258  503  801 1534 1501  920 1410  567 1024\n",
      " 1396 1355 1403  905  433  748  396 1460  281 1605  798 1357  311 1477\n",
      "  981 1184  810 1543  854  819  582  738 1417 1313  524  561 1688 1230\n",
      " 1292  532  629 1164  625  829 1247  878  882 1364  454 1695 1117  771\n",
      "  869 1167 1581 1468  286 1622  465  487 1684 1093 1331  893  734 1668\n",
      "  421  313 1443  784  374  735 1279 1377 1213 1183  485 1068  574 1397\n",
      "  231  752  410 1170 1124 1010  754 1133  820  388  911 1137 1369 1420\n",
      " 1387 1426  283  872  248 1316  355 1687 1342 1663 1258 1008 1430 1681\n",
      " 1392  379 1233 1447 1241 1146 1017  563 1378 1399  546 1243  815 1074\n",
      " 1474  790 1340 1530  443 1679 1041  965 1558  611 1621 1404  508 1082\n",
      "  598  570  254 1029  770  512 1122  309 1612 1179  300  972  870 1576\n",
      "  466  879  496  729 1150 1385 1513  577  486 1639 1656  326  527  492\n",
      " 1088 1586  865  555  370 1043 1334 1285  409 1598  340 1284 1324  851\n",
      " 1389 1421  685  727  399 1188 1525 1526 1571 1255  210  347  922  482\n",
      "  498  814  491  850  799 1694  818 1036  329 1298  531  523  894  678\n",
      "  930  335  706  713 1252  635 1107 1166  868  904  358 1400 1493  776\n",
      "  552  924 1496 1363 1199 1592 1423  395 1597 1374]\n"
     ]
    }
   ],
   "source": [
    "print(idArr)"
   ]
  },
  {
   "cell_type": "code",
   "execution_count": null,
   "id": "e2e3df78",
   "metadata": {},
   "outputs": [],
   "source": []
  },
  {
   "cell_type": "code",
   "execution_count": 6,
   "id": "7cefe0f6",
   "metadata": {},
   "outputs": [],
   "source": [
    "derivArr = np.random.choice(['Futures Contract', 'Option Contract'], size=arrSize, p=[0.4, 0.6])"
   ]
  },
  {
   "cell_type": "code",
   "execution_count": 7,
   "id": "90b0592a",
   "metadata": {},
   "outputs": [
    {
     "data": {
      "text/plain": [
       "array(['Option Contract', 'Option Contract', 'Option Contract',\n",
       "       'Option Contract', 'Option Contract', 'Option Contract',\n",
       "       'Futures Contract', 'Option Contract', 'Option Contract',\n",
       "       'Option Contract', 'Futures Contract', 'Futures Contract',\n",
       "       'Option Contract', 'Futures Contract', 'Option Contract',\n",
       "       'Futures Contract', 'Futures Contract', 'Option Contract',\n",
       "       'Option Contract', 'Futures Contract', 'Futures Contract',\n",
       "       'Futures Contract', 'Option Contract', 'Futures Contract',\n",
       "       'Option Contract', 'Option Contract', 'Futures Contract',\n",
       "       'Option Contract', 'Option Contract', 'Futures Contract',\n",
       "       'Option Contract', 'Option Contract', 'Option Contract',\n",
       "       'Option Contract', 'Option Contract', 'Option Contract',\n",
       "       'Option Contract', 'Option Contract', 'Option Contract',\n",
       "       'Option Contract', 'Futures Contract', 'Futures Contract',\n",
       "       'Futures Contract', 'Futures Contract', 'Futures Contract',\n",
       "       'Option Contract', 'Futures Contract', 'Option Contract',\n",
       "       'Futures Contract', 'Option Contract', 'Option Contract',\n",
       "       'Option Contract', 'Option Contract', 'Futures Contract',\n",
       "       'Option Contract', 'Futures Contract', 'Option Contract',\n",
       "       'Futures Contract', 'Option Contract', 'Option Contract',\n",
       "       'Futures Contract', 'Futures Contract', 'Futures Contract',\n",
       "       'Futures Contract', 'Option Contract', 'Futures Contract',\n",
       "       'Futures Contract', 'Futures Contract', 'Option Contract',\n",
       "       'Futures Contract', 'Futures Contract', 'Futures Contract',\n",
       "       'Option Contract', 'Option Contract', 'Futures Contract',\n",
       "       'Futures Contract', 'Option Contract', 'Option Contract',\n",
       "       'Futures Contract', 'Option Contract', 'Option Contract',\n",
       "       'Futures Contract', 'Option Contract', 'Option Contract',\n",
       "       'Option Contract', 'Futures Contract', 'Futures Contract',\n",
       "       'Option Contract', 'Option Contract', 'Option Contract',\n",
       "       'Option Contract', 'Option Contract', 'Option Contract',\n",
       "       'Futures Contract', 'Futures Contract', 'Option Contract',\n",
       "       'Futures Contract', 'Option Contract', 'Futures Contract',\n",
       "       'Futures Contract', 'Futures Contract', 'Option Contract',\n",
       "       'Option Contract', 'Futures Contract', 'Option Contract',\n",
       "       'Option Contract', 'Option Contract', 'Futures Contract',\n",
       "       'Option Contract', 'Option Contract', 'Futures Contract',\n",
       "       'Futures Contract', 'Option Contract', 'Option Contract',\n",
       "       'Futures Contract', 'Option Contract', 'Option Contract',\n",
       "       'Option Contract', 'Option Contract', 'Option Contract',\n",
       "       'Option Contract', 'Futures Contract', 'Futures Contract',\n",
       "       'Option Contract', 'Option Contract', 'Futures Contract',\n",
       "       'Option Contract', 'Option Contract', 'Option Contract',\n",
       "       'Option Contract', 'Option Contract', 'Futures Contract',\n",
       "       'Futures Contract', 'Futures Contract', 'Futures Contract',\n",
       "       'Option Contract', 'Option Contract', 'Futures Contract',\n",
       "       'Option Contract', 'Futures Contract', 'Option Contract',\n",
       "       'Option Contract', 'Futures Contract', 'Option Contract',\n",
       "       'Futures Contract', 'Option Contract', 'Option Contract',\n",
       "       'Futures Contract', 'Option Contract', 'Futures Contract',\n",
       "       'Futures Contract', 'Option Contract', 'Futures Contract',\n",
       "       'Option Contract', 'Option Contract', 'Option Contract',\n",
       "       'Futures Contract', 'Option Contract', 'Option Contract',\n",
       "       'Futures Contract', 'Option Contract', 'Option Contract',\n",
       "       'Option Contract', 'Option Contract', 'Option Contract',\n",
       "       'Option Contract', 'Option Contract', 'Option Contract',\n",
       "       'Futures Contract', 'Futures Contract', 'Option Contract',\n",
       "       'Futures Contract', 'Option Contract', 'Futures Contract',\n",
       "       'Futures Contract', 'Option Contract', 'Option Contract',\n",
       "       'Futures Contract', 'Option Contract', 'Option Contract',\n",
       "       'Futures Contract', 'Option Contract', 'Futures Contract',\n",
       "       'Futures Contract', 'Option Contract', 'Futures Contract',\n",
       "       'Option Contract', 'Option Contract', 'Futures Contract',\n",
       "       'Option Contract', 'Option Contract', 'Futures Contract',\n",
       "       'Option Contract', 'Option Contract', 'Option Contract',\n",
       "       'Option Contract', 'Futures Contract', 'Option Contract',\n",
       "       'Option Contract', 'Option Contract', 'Option Contract',\n",
       "       'Option Contract', 'Option Contract', 'Option Contract',\n",
       "       'Option Contract', 'Option Contract', 'Option Contract',\n",
       "       'Option Contract', 'Futures Contract', 'Futures Contract',\n",
       "       'Option Contract', 'Option Contract', 'Option Contract',\n",
       "       'Option Contract', 'Option Contract', 'Option Contract',\n",
       "       'Futures Contract', 'Option Contract', 'Option Contract',\n",
       "       'Option Contract', 'Option Contract', 'Futures Contract',\n",
       "       'Futures Contract', 'Futures Contract', 'Option Contract',\n",
       "       'Futures Contract', 'Option Contract', 'Option Contract',\n",
       "       'Futures Contract', 'Option Contract', 'Futures Contract',\n",
       "       'Option Contract', 'Futures Contract', 'Option Contract',\n",
       "       'Futures Contract', 'Option Contract', 'Option Contract',\n",
       "       'Option Contract', 'Option Contract', 'Option Contract',\n",
       "       'Option Contract', 'Option Contract', 'Option Contract',\n",
       "       'Option Contract', 'Option Contract', 'Futures Contract',\n",
       "       'Futures Contract', 'Option Contract', 'Option Contract',\n",
       "       'Option Contract', 'Option Contract', 'Option Contract',\n",
       "       'Futures Contract', 'Futures Contract', 'Futures Contract',\n",
       "       'Option Contract', 'Option Contract', 'Futures Contract',\n",
       "       'Option Contract', 'Option Contract', 'Option Contract',\n",
       "       'Option Contract', 'Futures Contract', 'Option Contract',\n",
       "       'Option Contract', 'Futures Contract', 'Option Contract',\n",
       "       'Futures Contract', 'Option Contract', 'Option Contract',\n",
       "       'Option Contract', 'Option Contract', 'Futures Contract',\n",
       "       'Option Contract', 'Futures Contract', 'Futures Contract',\n",
       "       'Option Contract', 'Futures Contract', 'Option Contract',\n",
       "       'Option Contract', 'Futures Contract', 'Futures Contract',\n",
       "       'Futures Contract', 'Option Contract', 'Option Contract',\n",
       "       'Futures Contract', 'Option Contract', 'Option Contract',\n",
       "       'Futures Contract', 'Option Contract', 'Option Contract',\n",
       "       'Option Contract', 'Futures Contract', 'Futures Contract',\n",
       "       'Futures Contract', 'Option Contract', 'Futures Contract',\n",
       "       'Option Contract', 'Option Contract', 'Option Contract',\n",
       "       'Option Contract', 'Option Contract', 'Option Contract',\n",
       "       'Option Contract', 'Futures Contract', 'Option Contract',\n",
       "       'Futures Contract', 'Futures Contract', 'Futures Contract',\n",
       "       'Option Contract', 'Futures Contract', 'Futures Contract',\n",
       "       'Futures Contract', 'Futures Contract', 'Option Contract',\n",
       "       'Option Contract', 'Futures Contract', 'Option Contract',\n",
       "       'Option Contract', 'Futures Contract', 'Futures Contract',\n",
       "       'Option Contract', 'Option Contract', 'Futures Contract',\n",
       "       'Option Contract', 'Futures Contract', 'Option Contract',\n",
       "       'Futures Contract', 'Futures Contract', 'Futures Contract',\n",
       "       'Option Contract', 'Option Contract', 'Futures Contract',\n",
       "       'Futures Contract', 'Option Contract', 'Futures Contract',\n",
       "       'Futures Contract', 'Option Contract', 'Futures Contract',\n",
       "       'Option Contract', 'Option Contract', 'Futures Contract',\n",
       "       'Futures Contract', 'Futures Contract', 'Option Contract',\n",
       "       'Option Contract', 'Option Contract', 'Futures Contract',\n",
       "       'Option Contract', 'Option Contract', 'Option Contract',\n",
       "       'Option Contract', 'Option Contract', 'Option Contract',\n",
       "       'Option Contract', 'Futures Contract', 'Futures Contract',\n",
       "       'Option Contract', 'Futures Contract', 'Option Contract',\n",
       "       'Option Contract', 'Option Contract', 'Futures Contract',\n",
       "       'Futures Contract', 'Futures Contract', 'Option Contract',\n",
       "       'Option Contract', 'Option Contract', 'Option Contract',\n",
       "       'Option Contract', 'Option Contract', 'Futures Contract',\n",
       "       'Option Contract', 'Futures Contract', 'Futures Contract',\n",
       "       'Option Contract', 'Futures Contract', 'Option Contract',\n",
       "       'Option Contract', 'Option Contract', 'Futures Contract',\n",
       "       'Option Contract', 'Option Contract', 'Option Contract',\n",
       "       'Option Contract', 'Futures Contract', 'Option Contract',\n",
       "       'Futures Contract', 'Option Contract', 'Option Contract',\n",
       "       'Option Contract', 'Option Contract', 'Option Contract',\n",
       "       'Option Contract', 'Option Contract', 'Option Contract',\n",
       "       'Futures Contract', 'Futures Contract', 'Option Contract',\n",
       "       'Futures Contract', 'Option Contract', 'Futures Contract',\n",
       "       'Option Contract', 'Option Contract', 'Option Contract',\n",
       "       'Option Contract', 'Option Contract', 'Option Contract',\n",
       "       'Option Contract', 'Futures Contract', 'Option Contract',\n",
       "       'Option Contract', 'Futures Contract', 'Futures Contract',\n",
       "       'Option Contract', 'Futures Contract', 'Futures Contract',\n",
       "       'Option Contract', 'Option Contract', 'Option Contract',\n",
       "       'Option Contract', 'Option Contract', 'Option Contract',\n",
       "       'Futures Contract', 'Option Contract', 'Futures Contract',\n",
       "       'Option Contract', 'Option Contract', 'Option Contract',\n",
       "       'Futures Contract', 'Option Contract', 'Option Contract',\n",
       "       'Futures Contract', 'Futures Contract', 'Option Contract',\n",
       "       'Futures Contract', 'Option Contract', 'Option Contract',\n",
       "       'Futures Contract', 'Option Contract', 'Futures Contract',\n",
       "       'Option Contract', 'Futures Contract', 'Futures Contract',\n",
       "       'Option Contract', 'Option Contract', 'Option Contract',\n",
       "       'Option Contract', 'Option Contract', 'Futures Contract',\n",
       "       'Futures Contract', 'Option Contract', 'Option Contract',\n",
       "       'Option Contract', 'Futures Contract', 'Futures Contract',\n",
       "       'Option Contract', 'Option Contract', 'Option Contract',\n",
       "       'Option Contract', 'Option Contract', 'Futures Contract',\n",
       "       'Option Contract', 'Futures Contract', 'Futures Contract',\n",
       "       'Option Contract', 'Option Contract', 'Option Contract',\n",
       "       'Futures Contract', 'Futures Contract', 'Futures Contract',\n",
       "       'Futures Contract', 'Option Contract', 'Futures Contract',\n",
       "       'Option Contract', 'Futures Contract', 'Futures Contract',\n",
       "       'Futures Contract', 'Option Contract', 'Option Contract',\n",
       "       'Option Contract', 'Option Contract', 'Option Contract',\n",
       "       'Futures Contract', 'Futures Contract', 'Option Contract',\n",
       "       'Option Contract', 'Futures Contract', 'Option Contract',\n",
       "       'Option Contract', 'Futures Contract', 'Option Contract',\n",
       "       'Option Contract', 'Option Contract', 'Futures Contract',\n",
       "       'Futures Contract', 'Option Contract', 'Option Contract',\n",
       "       'Option Contract', 'Option Contract'], dtype='<U16')"
      ]
     },
     "execution_count": 7,
     "metadata": {},
     "output_type": "execute_result"
    }
   ],
   "source": [
    "derivArr"
   ]
  },
  {
   "cell_type": "code",
   "execution_count": null,
   "id": "009221c6",
   "metadata": {},
   "outputs": [],
   "source": []
  },
  {
   "cell_type": "code",
   "execution_count": 8,
   "id": "6fb62d84",
   "metadata": {},
   "outputs": [],
   "source": [
    "#-Create an unbalanced array of 500 values representing four classes for a type of underlying asset,\n",
    "#using np.random.choice and the following probabilities 0.25, 0.2, 0.35 and 0.2 for stock, bond,\n",
    "#currency and commodity respectively."
   ]
  },
  {
   "cell_type": "code",
   "execution_count": 9,
   "id": "72da7f4a",
   "metadata": {},
   "outputs": [],
   "source": [
    "assetArr = np.random.choice(['stock', 'bond', 'currency', 'commodity'], size=arrSize, p=[0.25,0.2,0.35,0.2])"
   ]
  },
  {
   "cell_type": "code",
   "execution_count": 10,
   "id": "ff61e945",
   "metadata": {},
   "outputs": [
    {
     "data": {
      "text/plain": [
       "array(['stock', 'currency', 'bond', 'currency', 'currency', 'stock',\n",
       "       'currency', 'stock', 'stock', 'bond', 'bond', 'commodity', 'bond',\n",
       "       'bond', 'currency', 'stock', 'commodity', 'currency', 'currency',\n",
       "       'stock', 'bond', 'bond', 'commodity', 'stock', 'bond', 'commodity',\n",
       "       'currency', 'bond', 'stock', 'commodity', 'stock', 'currency',\n",
       "       'currency', 'stock', 'currency', 'stock', 'bond', 'currency',\n",
       "       'commodity', 'currency', 'currency', 'stock', 'stock', 'stock',\n",
       "       'stock', 'bond', 'bond', 'bond', 'stock', 'currency', 'commodity',\n",
       "       'bond', 'commodity', 'commodity', 'stock', 'currency', 'currency',\n",
       "       'currency', 'bond', 'currency', 'bond', 'currency', 'currency',\n",
       "       'currency', 'currency', 'currency', 'stock', 'stock', 'commodity',\n",
       "       'bond', 'stock', 'stock', 'stock', 'commodity', 'currency',\n",
       "       'commodity', 'currency', 'currency', 'bond', 'currency', 'stock',\n",
       "       'commodity', 'commodity', 'bond', 'commodity', 'commodity',\n",
       "       'currency', 'stock', 'currency', 'currency', 'stock', 'stock',\n",
       "       'currency', 'stock', 'currency', 'commodity', 'commodity', 'bond',\n",
       "       'commodity', 'stock', 'stock', 'currency', 'bond', 'bond',\n",
       "       'currency', 'stock', 'stock', 'currency', 'currency', 'currency',\n",
       "       'bond', 'bond', 'stock', 'stock', 'currency', 'bond', 'stock',\n",
       "       'currency', 'currency', 'currency', 'stock', 'stock', 'stock',\n",
       "       'stock', 'currency', 'commodity', 'currency', 'currency', 'bond',\n",
       "       'currency', 'bond', 'currency', 'currency', 'stock', 'bond',\n",
       "       'commodity', 'stock', 'stock', 'bond', 'currency', 'currency',\n",
       "       'currency', 'stock', 'currency', 'bond', 'commodity', 'currency',\n",
       "       'stock', 'stock', 'stock', 'bond', 'bond', 'currency', 'currency',\n",
       "       'bond', 'stock', 'stock', 'commodity', 'stock', 'currency',\n",
       "       'commodity', 'currency', 'commodity', 'bond', 'commodity', 'stock',\n",
       "       'stock', 'currency', 'commodity', 'commodity', 'stock', 'bond',\n",
       "       'commodity', 'bond', 'currency', 'commodity', 'currency', 'bond',\n",
       "       'currency', 'stock', 'commodity', 'currency', 'commodity', 'stock',\n",
       "       'commodity', 'bond', 'stock', 'stock', 'currency', 'currency',\n",
       "       'commodity', 'stock', 'stock', 'currency', 'bond', 'currency',\n",
       "       'commodity', 'commodity', 'commodity', 'currency', 'bond', 'bond',\n",
       "       'currency', 'commodity', 'stock', 'bond', 'stock', 'currency',\n",
       "       'commodity', 'currency', 'stock', 'commodity', 'currency', 'stock',\n",
       "       'bond', 'bond', 'stock', 'commodity', 'currency', 'commodity',\n",
       "       'bond', 'stock', 'currency', 'stock', 'currency', 'commodity',\n",
       "       'currency', 'currency', 'stock', 'stock', 'stock', 'currency',\n",
       "       'stock', 'bond', 'currency', 'bond', 'stock', 'bond', 'commodity',\n",
       "       'currency', 'currency', 'stock', 'commodity', 'currency', 'bond',\n",
       "       'commodity', 'bond', 'currency', 'currency', 'stock', 'commodity',\n",
       "       'currency', 'currency', 'stock', 'stock', 'bond', 'currency',\n",
       "       'bond', 'currency', 'currency', 'stock', 'currency', 'stock',\n",
       "       'commodity', 'currency', 'stock', 'bond', 'bond', 'currency',\n",
       "       'currency', 'currency', 'stock', 'stock', 'stock', 'currency',\n",
       "       'commodity', 'bond', 'stock', 'currency', 'commodity', 'currency',\n",
       "       'commodity', 'bond', 'stock', 'commodity', 'currency', 'bond',\n",
       "       'currency', 'commodity', 'currency', 'currency', 'bond',\n",
       "       'currency', 'currency', 'commodity', 'commodity', 'commodity',\n",
       "       'stock', 'currency', 'currency', 'currency', 'currency',\n",
       "       'commodity', 'currency', 'currency', 'stock', 'bond', 'currency',\n",
       "       'currency', 'stock', 'stock', 'currency', 'stock', 'stock',\n",
       "       'stock', 'stock', 'stock', 'bond', 'bond', 'commodity', 'currency',\n",
       "       'currency', 'stock', 'stock', 'currency', 'stock', 'currency',\n",
       "       'currency', 'currency', 'stock', 'bond', 'currency', 'stock',\n",
       "       'currency', 'currency', 'commodity', 'stock', 'commodity',\n",
       "       'currency', 'bond', 'stock', 'currency', 'stock', 'bond', 'stock',\n",
       "       'commodity', 'currency', 'currency', 'bond', 'stock', 'currency',\n",
       "       'currency', 'stock', 'currency', 'commodity', 'currency',\n",
       "       'currency', 'commodity', 'stock', 'currency', 'commodity', 'stock',\n",
       "       'currency', 'currency', 'currency', 'currency', 'commodity',\n",
       "       'currency', 'stock', 'commodity', 'stock', 'bond', 'currency',\n",
       "       'currency', 'bond', 'commodity', 'currency', 'currency', 'stock',\n",
       "       'commodity', 'commodity', 'currency', 'stock', 'stock', 'stock',\n",
       "       'stock', 'bond', 'commodity', 'currency', 'stock', 'bond', 'stock',\n",
       "       'stock', 'bond', 'bond', 'currency', 'commodity', 'bond', 'bond',\n",
       "       'commodity', 'bond', 'stock', 'commodity', 'stock', 'currency',\n",
       "       'currency', 'bond', 'bond', 'currency', 'stock', 'stock',\n",
       "       'currency', 'currency', 'stock', 'commodity', 'bond', 'commodity',\n",
       "       'currency', 'currency', 'currency', 'commodity', 'stock',\n",
       "       'currency', 'stock', 'bond', 'bond', 'commodity', 'commodity',\n",
       "       'stock', 'stock', 'currency', 'bond', 'stock', 'currency',\n",
       "       'currency', 'commodity', 'stock', 'bond', 'currency', 'currency',\n",
       "       'currency', 'currency', 'stock', 'commodity', 'bond', 'stock',\n",
       "       'currency', 'stock', 'stock', 'commodity', 'currency', 'currency',\n",
       "       'bond', 'currency', 'stock', 'bond', 'commodity', 'currency',\n",
       "       'currency', 'bond', 'commodity', 'currency', 'currency',\n",
       "       'currency', 'stock', 'stock', 'currency', 'stock', 'bond',\n",
       "       'commodity', 'currency', 'currency', 'currency', 'currency',\n",
       "       'stock', 'bond', 'bond', 'bond', 'currency', 'bond', 'currency',\n",
       "       'bond', 'stock', 'bond', 'stock', 'stock', 'stock', 'bond',\n",
       "       'currency', 'bond', 'bond', 'currency', 'stock', 'commodity',\n",
       "       'currency', 'bond', 'currency', 'stock', 'currency', 'bond'],\n",
       "      dtype='<U9')"
      ]
     },
     "execution_count": 10,
     "metadata": {},
     "output_type": "execute_result"
    }
   ],
   "source": [
    "assetArr"
   ]
  },
  {
   "cell_type": "code",
   "execution_count": null,
   "id": "fda6cab2",
   "metadata": {},
   "outputs": [],
   "source": []
  },
  {
   "cell_type": "code",
   "execution_count": 11,
   "id": "326a9710",
   "metadata": {},
   "outputs": [],
   "source": [
    "finDict = {\n",
    "    \"id\": idArr,  \n",
    "    \"derivatives\": derivArr,  \n",
    "    \"assets\": assetArr\n",
    "}"
   ]
  },
  {
   "cell_type": "code",
   "execution_count": 12,
   "id": "970acdb4",
   "metadata": {},
   "outputs": [
    {
     "data": {
      "text/plain": [
       "{'id': array([1317,  843,  622,  613,  651,  766, 1602, 1556, 1575,  459, 1089,\n",
       "        1633,  985, 1583,  270, 1508, 1692, 1486,  633,  251, 1689, 1204,\n",
       "        1391, 1450, 1293,  632, 1653, 1671,  964, 1527, 1594, 1287, 1680,\n",
       "        1026,  420,  539,  623,  628, 1666,  276, 1242,  639, 1654, 1065,\n",
       "        1306,  554,  565,  509,  943,  987, 1406,  743, 1341, 1408, 1617,\n",
       "         880,  249,  690,  516, 1105, 1109,  761,  686,  267, 1012,  693,\n",
       "         510,  974, 1505,  384,  506, 1345,  993,  489,  907,  900, 1296,\n",
       "         722,  661, 1131, 1593,  229,  440,  999, 1018,  265,  802, 1062,\n",
       "        1201, 1379,  760,  447,  477, 1603, 1267,  679,  626,  323, 1370,\n",
       "         594, 1186, 1249,  996, 1351,  697,  244,  259, 1121,  223, 1123,\n",
       "         681,  849,  946,  431,  324,  627,  998,  368,  315, 1289, 1187,\n",
       "        1503,  944,  615,  341, 1434,  967,  874, 1218,  662,  828,  278,\n",
       "        1205, 1439, 1650,  215,  694,  550, 1200,  474, 1261,  471,  834,\n",
       "         437, 1445, 1152, 1248,  918,  522, 1055, 1081, 1291, 1350, 1667,\n",
       "         726, 1514, 1162,  375,  558,  243,  616,  544, 1227, 1300,  301,\n",
       "         307, 1690, 1253, 1312,  580,  444, 1641,  700,  901,  328,  439,\n",
       "         836, 1521,  682, 1368,  475,  783,  403,  232,  864, 1696, 1263,\n",
       "         581, 1274,  778,  831, 1539,  910, 1483, 1142,  363, 1110,  497,\n",
       "         956,  605,  955,  782,  620,  664, 1388, 1140,  392, 1047,  551,\n",
       "        1059,  263, 1660,  751, 1098,  461,  542, 1002,  671,  927,  398,\n",
       "         807, 1058, 1052, 1302,  418,  653,  230,  256, 1411, 1246, 1266,\n",
       "         630, 1572, 1531, 1206, 1049, 1288, 1437, 1207, 1649,  821, 1268,\n",
       "        1039,  299,  732,  728, 1547,  826, 1473, 1672, 1568,  470,  941,\n",
       "        1444,  817, 1232,  571,  789, 1168, 1366, 1034,  436,  797, 1163,\n",
       "        1646,  959,  791,  408,  962, 1100,  553,  258,  503,  801, 1534,\n",
       "        1501,  920, 1410,  567, 1024, 1396, 1355, 1403,  905,  433,  748,\n",
       "         396, 1460,  281, 1605,  798, 1357,  311, 1477,  981, 1184,  810,\n",
       "        1543,  854,  819,  582,  738, 1417, 1313,  524,  561, 1688, 1230,\n",
       "        1292,  532,  629, 1164,  625,  829, 1247,  878,  882, 1364,  454,\n",
       "        1695, 1117,  771,  869, 1167, 1581, 1468,  286, 1622,  465,  487,\n",
       "        1684, 1093, 1331,  893,  734, 1668,  421,  313, 1443,  784,  374,\n",
       "         735, 1279, 1377, 1213, 1183,  485, 1068,  574, 1397,  231,  752,\n",
       "         410, 1170, 1124, 1010,  754, 1133,  820,  388,  911, 1137, 1369,\n",
       "        1420, 1387, 1426,  283,  872,  248, 1316,  355, 1687, 1342, 1663,\n",
       "        1258, 1008, 1430, 1681, 1392,  379, 1233, 1447, 1241, 1146, 1017,\n",
       "         563, 1378, 1399,  546, 1243,  815, 1074, 1474,  790, 1340, 1530,\n",
       "         443, 1679, 1041,  965, 1558,  611, 1621, 1404,  508, 1082,  598,\n",
       "         570,  254, 1029,  770,  512, 1122,  309, 1612, 1179,  300,  972,\n",
       "         870, 1576,  466,  879,  496,  729, 1150, 1385, 1513,  577,  486,\n",
       "        1639, 1656,  326,  527,  492, 1088, 1586,  865,  555,  370, 1043,\n",
       "        1334, 1285,  409, 1598,  340, 1284, 1324,  851, 1389, 1421,  685,\n",
       "         727,  399, 1188, 1525, 1526, 1571, 1255,  210,  347,  922,  482,\n",
       "         498,  814,  491,  850,  799, 1694,  818, 1036,  329, 1298,  531,\n",
       "         523,  894,  678,  930,  335,  706,  713, 1252,  635, 1107, 1166,\n",
       "         868,  904,  358, 1400, 1493,  776,  552,  924, 1496, 1363, 1199,\n",
       "        1592, 1423,  395, 1597, 1374]),\n",
       " 'derivatives': array(['Option Contract', 'Option Contract', 'Option Contract',\n",
       "        'Option Contract', 'Option Contract', 'Option Contract',\n",
       "        'Futures Contract', 'Option Contract', 'Option Contract',\n",
       "        'Option Contract', 'Futures Contract', 'Futures Contract',\n",
       "        'Option Contract', 'Futures Contract', 'Option Contract',\n",
       "        'Futures Contract', 'Futures Contract', 'Option Contract',\n",
       "        'Option Contract', 'Futures Contract', 'Futures Contract',\n",
       "        'Futures Contract', 'Option Contract', 'Futures Contract',\n",
       "        'Option Contract', 'Option Contract', 'Futures Contract',\n",
       "        'Option Contract', 'Option Contract', 'Futures Contract',\n",
       "        'Option Contract', 'Option Contract', 'Option Contract',\n",
       "        'Option Contract', 'Option Contract', 'Option Contract',\n",
       "        'Option Contract', 'Option Contract', 'Option Contract',\n",
       "        'Option Contract', 'Futures Contract', 'Futures Contract',\n",
       "        'Futures Contract', 'Futures Contract', 'Futures Contract',\n",
       "        'Option Contract', 'Futures Contract', 'Option Contract',\n",
       "        'Futures Contract', 'Option Contract', 'Option Contract',\n",
       "        'Option Contract', 'Option Contract', 'Futures Contract',\n",
       "        'Option Contract', 'Futures Contract', 'Option Contract',\n",
       "        'Futures Contract', 'Option Contract', 'Option Contract',\n",
       "        'Futures Contract', 'Futures Contract', 'Futures Contract',\n",
       "        'Futures Contract', 'Option Contract', 'Futures Contract',\n",
       "        'Futures Contract', 'Futures Contract', 'Option Contract',\n",
       "        'Futures Contract', 'Futures Contract', 'Futures Contract',\n",
       "        'Option Contract', 'Option Contract', 'Futures Contract',\n",
       "        'Futures Contract', 'Option Contract', 'Option Contract',\n",
       "        'Futures Contract', 'Option Contract', 'Option Contract',\n",
       "        'Futures Contract', 'Option Contract', 'Option Contract',\n",
       "        'Option Contract', 'Futures Contract', 'Futures Contract',\n",
       "        'Option Contract', 'Option Contract', 'Option Contract',\n",
       "        'Option Contract', 'Option Contract', 'Option Contract',\n",
       "        'Futures Contract', 'Futures Contract', 'Option Contract',\n",
       "        'Futures Contract', 'Option Contract', 'Futures Contract',\n",
       "        'Futures Contract', 'Futures Contract', 'Option Contract',\n",
       "        'Option Contract', 'Futures Contract', 'Option Contract',\n",
       "        'Option Contract', 'Option Contract', 'Futures Contract',\n",
       "        'Option Contract', 'Option Contract', 'Futures Contract',\n",
       "        'Futures Contract', 'Option Contract', 'Option Contract',\n",
       "        'Futures Contract', 'Option Contract', 'Option Contract',\n",
       "        'Option Contract', 'Option Contract', 'Option Contract',\n",
       "        'Option Contract', 'Futures Contract', 'Futures Contract',\n",
       "        'Option Contract', 'Option Contract', 'Futures Contract',\n",
       "        'Option Contract', 'Option Contract', 'Option Contract',\n",
       "        'Option Contract', 'Option Contract', 'Futures Contract',\n",
       "        'Futures Contract', 'Futures Contract', 'Futures Contract',\n",
       "        'Option Contract', 'Option Contract', 'Futures Contract',\n",
       "        'Option Contract', 'Futures Contract', 'Option Contract',\n",
       "        'Option Contract', 'Futures Contract', 'Option Contract',\n",
       "        'Futures Contract', 'Option Contract', 'Option Contract',\n",
       "        'Futures Contract', 'Option Contract', 'Futures Contract',\n",
       "        'Futures Contract', 'Option Contract', 'Futures Contract',\n",
       "        'Option Contract', 'Option Contract', 'Option Contract',\n",
       "        'Futures Contract', 'Option Contract', 'Option Contract',\n",
       "        'Futures Contract', 'Option Contract', 'Option Contract',\n",
       "        'Option Contract', 'Option Contract', 'Option Contract',\n",
       "        'Option Contract', 'Option Contract', 'Option Contract',\n",
       "        'Futures Contract', 'Futures Contract', 'Option Contract',\n",
       "        'Futures Contract', 'Option Contract', 'Futures Contract',\n",
       "        'Futures Contract', 'Option Contract', 'Option Contract',\n",
       "        'Futures Contract', 'Option Contract', 'Option Contract',\n",
       "        'Futures Contract', 'Option Contract', 'Futures Contract',\n",
       "        'Futures Contract', 'Option Contract', 'Futures Contract',\n",
       "        'Option Contract', 'Option Contract', 'Futures Contract',\n",
       "        'Option Contract', 'Option Contract', 'Futures Contract',\n",
       "        'Option Contract', 'Option Contract', 'Option Contract',\n",
       "        'Option Contract', 'Futures Contract', 'Option Contract',\n",
       "        'Option Contract', 'Option Contract', 'Option Contract',\n",
       "        'Option Contract', 'Option Contract', 'Option Contract',\n",
       "        'Option Contract', 'Option Contract', 'Option Contract',\n",
       "        'Option Contract', 'Futures Contract', 'Futures Contract',\n",
       "        'Option Contract', 'Option Contract', 'Option Contract',\n",
       "        'Option Contract', 'Option Contract', 'Option Contract',\n",
       "        'Futures Contract', 'Option Contract', 'Option Contract',\n",
       "        'Option Contract', 'Option Contract', 'Futures Contract',\n",
       "        'Futures Contract', 'Futures Contract', 'Option Contract',\n",
       "        'Futures Contract', 'Option Contract', 'Option Contract',\n",
       "        'Futures Contract', 'Option Contract', 'Futures Contract',\n",
       "        'Option Contract', 'Futures Contract', 'Option Contract',\n",
       "        'Futures Contract', 'Option Contract', 'Option Contract',\n",
       "        'Option Contract', 'Option Contract', 'Option Contract',\n",
       "        'Option Contract', 'Option Contract', 'Option Contract',\n",
       "        'Option Contract', 'Option Contract', 'Futures Contract',\n",
       "        'Futures Contract', 'Option Contract', 'Option Contract',\n",
       "        'Option Contract', 'Option Contract', 'Option Contract',\n",
       "        'Futures Contract', 'Futures Contract', 'Futures Contract',\n",
       "        'Option Contract', 'Option Contract', 'Futures Contract',\n",
       "        'Option Contract', 'Option Contract', 'Option Contract',\n",
       "        'Option Contract', 'Futures Contract', 'Option Contract',\n",
       "        'Option Contract', 'Futures Contract', 'Option Contract',\n",
       "        'Futures Contract', 'Option Contract', 'Option Contract',\n",
       "        'Option Contract', 'Option Contract', 'Futures Contract',\n",
       "        'Option Contract', 'Futures Contract', 'Futures Contract',\n",
       "        'Option Contract', 'Futures Contract', 'Option Contract',\n",
       "        'Option Contract', 'Futures Contract', 'Futures Contract',\n",
       "        'Futures Contract', 'Option Contract', 'Option Contract',\n",
       "        'Futures Contract', 'Option Contract', 'Option Contract',\n",
       "        'Futures Contract', 'Option Contract', 'Option Contract',\n",
       "        'Option Contract', 'Futures Contract', 'Futures Contract',\n",
       "        'Futures Contract', 'Option Contract', 'Futures Contract',\n",
       "        'Option Contract', 'Option Contract', 'Option Contract',\n",
       "        'Option Contract', 'Option Contract', 'Option Contract',\n",
       "        'Option Contract', 'Futures Contract', 'Option Contract',\n",
       "        'Futures Contract', 'Futures Contract', 'Futures Contract',\n",
       "        'Option Contract', 'Futures Contract', 'Futures Contract',\n",
       "        'Futures Contract', 'Futures Contract', 'Option Contract',\n",
       "        'Option Contract', 'Futures Contract', 'Option Contract',\n",
       "        'Option Contract', 'Futures Contract', 'Futures Contract',\n",
       "        'Option Contract', 'Option Contract', 'Futures Contract',\n",
       "        'Option Contract', 'Futures Contract', 'Option Contract',\n",
       "        'Futures Contract', 'Futures Contract', 'Futures Contract',\n",
       "        'Option Contract', 'Option Contract', 'Futures Contract',\n",
       "        'Futures Contract', 'Option Contract', 'Futures Contract',\n",
       "        'Futures Contract', 'Option Contract', 'Futures Contract',\n",
       "        'Option Contract', 'Option Contract', 'Futures Contract',\n",
       "        'Futures Contract', 'Futures Contract', 'Option Contract',\n",
       "        'Option Contract', 'Option Contract', 'Futures Contract',\n",
       "        'Option Contract', 'Option Contract', 'Option Contract',\n",
       "        'Option Contract', 'Option Contract', 'Option Contract',\n",
       "        'Option Contract', 'Futures Contract', 'Futures Contract',\n",
       "        'Option Contract', 'Futures Contract', 'Option Contract',\n",
       "        'Option Contract', 'Option Contract', 'Futures Contract',\n",
       "        'Futures Contract', 'Futures Contract', 'Option Contract',\n",
       "        'Option Contract', 'Option Contract', 'Option Contract',\n",
       "        'Option Contract', 'Option Contract', 'Futures Contract',\n",
       "        'Option Contract', 'Futures Contract', 'Futures Contract',\n",
       "        'Option Contract', 'Futures Contract', 'Option Contract',\n",
       "        'Option Contract', 'Option Contract', 'Futures Contract',\n",
       "        'Option Contract', 'Option Contract', 'Option Contract',\n",
       "        'Option Contract', 'Futures Contract', 'Option Contract',\n",
       "        'Futures Contract', 'Option Contract', 'Option Contract',\n",
       "        'Option Contract', 'Option Contract', 'Option Contract',\n",
       "        'Option Contract', 'Option Contract', 'Option Contract',\n",
       "        'Futures Contract', 'Futures Contract', 'Option Contract',\n",
       "        'Futures Contract', 'Option Contract', 'Futures Contract',\n",
       "        'Option Contract', 'Option Contract', 'Option Contract',\n",
       "        'Option Contract', 'Option Contract', 'Option Contract',\n",
       "        'Option Contract', 'Futures Contract', 'Option Contract',\n",
       "        'Option Contract', 'Futures Contract', 'Futures Contract',\n",
       "        'Option Contract', 'Futures Contract', 'Futures Contract',\n",
       "        'Option Contract', 'Option Contract', 'Option Contract',\n",
       "        'Option Contract', 'Option Contract', 'Option Contract',\n",
       "        'Futures Contract', 'Option Contract', 'Futures Contract',\n",
       "        'Option Contract', 'Option Contract', 'Option Contract',\n",
       "        'Futures Contract', 'Option Contract', 'Option Contract',\n",
       "        'Futures Contract', 'Futures Contract', 'Option Contract',\n",
       "        'Futures Contract', 'Option Contract', 'Option Contract',\n",
       "        'Futures Contract', 'Option Contract', 'Futures Contract',\n",
       "        'Option Contract', 'Futures Contract', 'Futures Contract',\n",
       "        'Option Contract', 'Option Contract', 'Option Contract',\n",
       "        'Option Contract', 'Option Contract', 'Futures Contract',\n",
       "        'Futures Contract', 'Option Contract', 'Option Contract',\n",
       "        'Option Contract', 'Futures Contract', 'Futures Contract',\n",
       "        'Option Contract', 'Option Contract', 'Option Contract',\n",
       "        'Option Contract', 'Option Contract', 'Futures Contract',\n",
       "        'Option Contract', 'Futures Contract', 'Futures Contract',\n",
       "        'Option Contract', 'Option Contract', 'Option Contract',\n",
       "        'Futures Contract', 'Futures Contract', 'Futures Contract',\n",
       "        'Futures Contract', 'Option Contract', 'Futures Contract',\n",
       "        'Option Contract', 'Futures Contract', 'Futures Contract',\n",
       "        'Futures Contract', 'Option Contract', 'Option Contract',\n",
       "        'Option Contract', 'Option Contract', 'Option Contract',\n",
       "        'Futures Contract', 'Futures Contract', 'Option Contract',\n",
       "        'Option Contract', 'Futures Contract', 'Option Contract',\n",
       "        'Option Contract', 'Futures Contract', 'Option Contract',\n",
       "        'Option Contract', 'Option Contract', 'Futures Contract',\n",
       "        'Futures Contract', 'Option Contract', 'Option Contract',\n",
       "        'Option Contract', 'Option Contract'], dtype='<U16'),\n",
       " 'assets': array(['stock', 'currency', 'bond', 'currency', 'currency', 'stock',\n",
       "        'currency', 'stock', 'stock', 'bond', 'bond', 'commodity', 'bond',\n",
       "        'bond', 'currency', 'stock', 'commodity', 'currency', 'currency',\n",
       "        'stock', 'bond', 'bond', 'commodity', 'stock', 'bond', 'commodity',\n",
       "        'currency', 'bond', 'stock', 'commodity', 'stock', 'currency',\n",
       "        'currency', 'stock', 'currency', 'stock', 'bond', 'currency',\n",
       "        'commodity', 'currency', 'currency', 'stock', 'stock', 'stock',\n",
       "        'stock', 'bond', 'bond', 'bond', 'stock', 'currency', 'commodity',\n",
       "        'bond', 'commodity', 'commodity', 'stock', 'currency', 'currency',\n",
       "        'currency', 'bond', 'currency', 'bond', 'currency', 'currency',\n",
       "        'currency', 'currency', 'currency', 'stock', 'stock', 'commodity',\n",
       "        'bond', 'stock', 'stock', 'stock', 'commodity', 'currency',\n",
       "        'commodity', 'currency', 'currency', 'bond', 'currency', 'stock',\n",
       "        'commodity', 'commodity', 'bond', 'commodity', 'commodity',\n",
       "        'currency', 'stock', 'currency', 'currency', 'stock', 'stock',\n",
       "        'currency', 'stock', 'currency', 'commodity', 'commodity', 'bond',\n",
       "        'commodity', 'stock', 'stock', 'currency', 'bond', 'bond',\n",
       "        'currency', 'stock', 'stock', 'currency', 'currency', 'currency',\n",
       "        'bond', 'bond', 'stock', 'stock', 'currency', 'bond', 'stock',\n",
       "        'currency', 'currency', 'currency', 'stock', 'stock', 'stock',\n",
       "        'stock', 'currency', 'commodity', 'currency', 'currency', 'bond',\n",
       "        'currency', 'bond', 'currency', 'currency', 'stock', 'bond',\n",
       "        'commodity', 'stock', 'stock', 'bond', 'currency', 'currency',\n",
       "        'currency', 'stock', 'currency', 'bond', 'commodity', 'currency',\n",
       "        'stock', 'stock', 'stock', 'bond', 'bond', 'currency', 'currency',\n",
       "        'bond', 'stock', 'stock', 'commodity', 'stock', 'currency',\n",
       "        'commodity', 'currency', 'commodity', 'bond', 'commodity', 'stock',\n",
       "        'stock', 'currency', 'commodity', 'commodity', 'stock', 'bond',\n",
       "        'commodity', 'bond', 'currency', 'commodity', 'currency', 'bond',\n",
       "        'currency', 'stock', 'commodity', 'currency', 'commodity', 'stock',\n",
       "        'commodity', 'bond', 'stock', 'stock', 'currency', 'currency',\n",
       "        'commodity', 'stock', 'stock', 'currency', 'bond', 'currency',\n",
       "        'commodity', 'commodity', 'commodity', 'currency', 'bond', 'bond',\n",
       "        'currency', 'commodity', 'stock', 'bond', 'stock', 'currency',\n",
       "        'commodity', 'currency', 'stock', 'commodity', 'currency', 'stock',\n",
       "        'bond', 'bond', 'stock', 'commodity', 'currency', 'commodity',\n",
       "        'bond', 'stock', 'currency', 'stock', 'currency', 'commodity',\n",
       "        'currency', 'currency', 'stock', 'stock', 'stock', 'currency',\n",
       "        'stock', 'bond', 'currency', 'bond', 'stock', 'bond', 'commodity',\n",
       "        'currency', 'currency', 'stock', 'commodity', 'currency', 'bond',\n",
       "        'commodity', 'bond', 'currency', 'currency', 'stock', 'commodity',\n",
       "        'currency', 'currency', 'stock', 'stock', 'bond', 'currency',\n",
       "        'bond', 'currency', 'currency', 'stock', 'currency', 'stock',\n",
       "        'commodity', 'currency', 'stock', 'bond', 'bond', 'currency',\n",
       "        'currency', 'currency', 'stock', 'stock', 'stock', 'currency',\n",
       "        'commodity', 'bond', 'stock', 'currency', 'commodity', 'currency',\n",
       "        'commodity', 'bond', 'stock', 'commodity', 'currency', 'bond',\n",
       "        'currency', 'commodity', 'currency', 'currency', 'bond',\n",
       "        'currency', 'currency', 'commodity', 'commodity', 'commodity',\n",
       "        'stock', 'currency', 'currency', 'currency', 'currency',\n",
       "        'commodity', 'currency', 'currency', 'stock', 'bond', 'currency',\n",
       "        'currency', 'stock', 'stock', 'currency', 'stock', 'stock',\n",
       "        'stock', 'stock', 'stock', 'bond', 'bond', 'commodity', 'currency',\n",
       "        'currency', 'stock', 'stock', 'currency', 'stock', 'currency',\n",
       "        'currency', 'currency', 'stock', 'bond', 'currency', 'stock',\n",
       "        'currency', 'currency', 'commodity', 'stock', 'commodity',\n",
       "        'currency', 'bond', 'stock', 'currency', 'stock', 'bond', 'stock',\n",
       "        'commodity', 'currency', 'currency', 'bond', 'stock', 'currency',\n",
       "        'currency', 'stock', 'currency', 'commodity', 'currency',\n",
       "        'currency', 'commodity', 'stock', 'currency', 'commodity', 'stock',\n",
       "        'currency', 'currency', 'currency', 'currency', 'commodity',\n",
       "        'currency', 'stock', 'commodity', 'stock', 'bond', 'currency',\n",
       "        'currency', 'bond', 'commodity', 'currency', 'currency', 'stock',\n",
       "        'commodity', 'commodity', 'currency', 'stock', 'stock', 'stock',\n",
       "        'stock', 'bond', 'commodity', 'currency', 'stock', 'bond', 'stock',\n",
       "        'stock', 'bond', 'bond', 'currency', 'commodity', 'bond', 'bond',\n",
       "        'commodity', 'bond', 'stock', 'commodity', 'stock', 'currency',\n",
       "        'currency', 'bond', 'bond', 'currency', 'stock', 'stock',\n",
       "        'currency', 'currency', 'stock', 'commodity', 'bond', 'commodity',\n",
       "        'currency', 'currency', 'currency', 'commodity', 'stock',\n",
       "        'currency', 'stock', 'bond', 'bond', 'commodity', 'commodity',\n",
       "        'stock', 'stock', 'currency', 'bond', 'stock', 'currency',\n",
       "        'currency', 'commodity', 'stock', 'bond', 'currency', 'currency',\n",
       "        'currency', 'currency', 'stock', 'commodity', 'bond', 'stock',\n",
       "        'currency', 'stock', 'stock', 'commodity', 'currency', 'currency',\n",
       "        'bond', 'currency', 'stock', 'bond', 'commodity', 'currency',\n",
       "        'currency', 'bond', 'commodity', 'currency', 'currency',\n",
       "        'currency', 'stock', 'stock', 'currency', 'stock', 'bond',\n",
       "        'commodity', 'currency', 'currency', 'currency', 'currency',\n",
       "        'stock', 'bond', 'bond', 'bond', 'currency', 'bond', 'currency',\n",
       "        'bond', 'stock', 'bond', 'stock', 'stock', 'stock', 'bond',\n",
       "        'currency', 'bond', 'bond', 'currency', 'stock', 'commodity',\n",
       "        'currency', 'bond', 'currency', 'stock', 'currency', 'bond'],\n",
       "       dtype='<U9')}"
      ]
     },
     "execution_count": 12,
     "metadata": {},
     "output_type": "execute_result"
    }
   ],
   "source": [
    "finDict"
   ]
  },
  {
   "cell_type": "code",
   "execution_count": 13,
   "id": "cf46934d",
   "metadata": {},
   "outputs": [],
   "source": [
    "import pandas as pd"
   ]
  },
  {
   "cell_type": "code",
   "execution_count": 14,
   "id": "4940c9d4",
   "metadata": {},
   "outputs": [],
   "source": [
    "finDf = pd.DataFrame(finDict)"
   ]
  },
  {
   "cell_type": "code",
   "execution_count": 15,
   "id": "eb9b2011",
   "metadata": {},
   "outputs": [],
   "source": [
    "finDf = finDf[['id', 'derivatives', 'assets']]"
   ]
  },
  {
   "cell_type": "code",
   "execution_count": 16,
   "id": "509c9fdd",
   "metadata": {
    "scrolled": true
   },
   "outputs": [
    {
     "name": "stdout",
     "output_type": "stream",
     "text": [
      "       id       derivatives    assets\n",
      "0    1317   Option Contract     stock\n",
      "1     843   Option Contract  currency\n",
      "2     622   Option Contract      bond\n",
      "3     613   Option Contract  currency\n",
      "4     651   Option Contract  currency\n",
      "..    ...               ...       ...\n",
      "495  1592  Futures Contract      bond\n",
      "496  1423   Option Contract  currency\n",
      "497   395   Option Contract     stock\n",
      "498  1597   Option Contract  currency\n",
      "499  1374   Option Contract      bond\n",
      "\n",
      "[500 rows x 3 columns]\n"
     ]
    }
   ],
   "source": [
    "print(finDf)"
   ]
  },
  {
   "cell_type": "code",
   "execution_count": null,
   "id": "de07186a",
   "metadata": {},
   "outputs": [],
   "source": [
    "#MAX ID"
   ]
  },
  {
   "cell_type": "code",
   "execution_count": 17,
   "id": "45aee26e",
   "metadata": {},
   "outputs": [],
   "source": [
    "max_id = finDf['id'].max()"
   ]
  },
  {
   "cell_type": "code",
   "execution_count": 18,
   "id": "201d559e",
   "metadata": {
    "scrolled": true
   },
   "outputs": [
    {
     "data": {
      "text/plain": [
       "1696"
      ]
     },
     "execution_count": 18,
     "metadata": {},
     "output_type": "execute_result"
    }
   ],
   "source": [
    "max_id"
   ]
  },
  {
   "cell_type": "code",
   "execution_count": 25,
   "id": "79081e65",
   "metadata": {
    "scrolled": true
   },
   "outputs": [
    {
     "name": "stdout",
     "output_type": "stream",
     "text": [
      "The maximum value for id is: 1696\n"
     ]
    }
   ],
   "source": [
    "print('The maximum value for id is:', finDf['id'].max())"
   ]
  },
  {
   "cell_type": "code",
   "execution_count": null,
   "id": "7fd61f9b",
   "metadata": {},
   "outputs": [],
   "source": []
  },
  {
   "cell_type": "code",
   "execution_count": null,
   "id": "e5957de8",
   "metadata": {},
   "outputs": [],
   "source": [
    "#MIN ID"
   ]
  },
  {
   "cell_type": "code",
   "execution_count": 19,
   "id": "2aa88938",
   "metadata": {},
   "outputs": [],
   "source": [
    "min_id = finDf['id'].min()"
   ]
  },
  {
   "cell_type": "code",
   "execution_count": 20,
   "id": "0af3bdc3",
   "metadata": {},
   "outputs": [
    {
     "data": {
      "text/plain": [
       "210"
      ]
     },
     "execution_count": 20,
     "metadata": {},
     "output_type": "execute_result"
    }
   ],
   "source": [
    "min_id"
   ]
  },
  {
   "cell_type": "code",
   "execution_count": null,
   "id": "fc23b7b3",
   "metadata": {},
   "outputs": [],
   "source": [
    "print('The minimum value for id is:', finDf['id'].min())"
   ]
  },
  {
   "cell_type": "code",
   "execution_count": null,
   "id": "7d28e925",
   "metadata": {},
   "outputs": [],
   "source": []
  },
  {
   "cell_type": "code",
   "execution_count": 36,
   "id": "12daef35",
   "metadata": {},
   "outputs": [
    {
     "name": "stdout",
     "output_type": "stream",
     "text": [
      "The maximum value of values in derivative is 16\n",
      "The minimum value of values in derivative is 15\n"
     ]
    }
   ],
   "source": [
    "print('The maximum value of values in derivative is', finDf['derivatives'].str.len().max())\n",
    "print('The minimum value of values in derivative is', finDf['derivatives'].str.len().min())"
   ]
  },
  {
   "cell_type": "code",
   "execution_count": null,
   "id": "723e3c12",
   "metadata": {},
   "outputs": [],
   "source": []
  },
  {
   "cell_type": "code",
   "execution_count": 37,
   "id": "d6e43d00",
   "metadata": {},
   "outputs": [
    {
     "name": "stdout",
     "output_type": "stream",
     "text": [
      "The maximum value of values in asset is 9\n",
      "The minimum value of values in asset is 4\n"
     ]
    }
   ],
   "source": [
    "print('The maximum value of values in asset is', finDf['assets'].str.len().max())\n",
    "print('The minimum value of values in asset is', finDf['assets'].str.len().min())"
   ]
  },
  {
   "cell_type": "code",
   "execution_count": null,
   "id": "9d97c309",
   "metadata": {},
   "outputs": [],
   "source": []
  },
  {
   "cell_type": "code",
   "execution_count": null,
   "id": "8adcf213",
   "metadata": {},
   "outputs": [],
   "source": []
  },
  {
   "cell_type": "code",
   "execution_count": 44,
   "id": "a10e474b",
   "metadata": {},
   "outputs": [],
   "source": [
    "outPath = '/Users/Public/Public Doc4SQL/'\n",
    "finDf.to_csv(inPath + 'finance.csv', sep=',', index=False)"
   ]
  },
  {
   "cell_type": "code",
   "execution_count": 45,
   "id": "ab3e397f",
   "metadata": {},
   "outputs": [
    {
     "data": {
      "text/plain": [
       "'/Users/Public/Public Doc4SQL/'"
      ]
     },
     "execution_count": 45,
     "metadata": {},
     "output_type": "execute_result"
    }
   ],
   "source": [
    "outPath"
   ]
  },
  {
   "cell_type": "code",
   "execution_count": null,
   "id": "d50eb9b3",
   "metadata": {},
   "outputs": [],
   "source": [
    "#SETTING THE INDEX AS FALSE means that the index wont come up in the Excel file, \n",
    "#any changes will update if you run the output code again, recheck the folder and open the excel and it will have changed"
   ]
  },
  {
   "cell_type": "code",
   "execution_count": null,
   "id": "e44a44b4",
   "metadata": {},
   "outputs": [],
   "source": []
  },
  {
   "cell_type": "code",
   "execution_count": null,
   "id": "f12934dd",
   "metadata": {},
   "outputs": [],
   "source": []
  },
  {
   "cell_type": "code",
   "execution_count": null,
   "id": "61746a92",
   "metadata": {},
   "outputs": [],
   "source": []
  },
  {
   "cell_type": "code",
   "execution_count": null,
   "id": "c1cfc9a2",
   "metadata": {},
   "outputs": [],
   "source": []
  }
 ],
 "metadata": {
  "kernelspec": {
   "display_name": "Python 3 (ipykernel)",
   "language": "python",
   "name": "python3"
  },
  "language_info": {
   "codemirror_mode": {
    "name": "ipython",
    "version": 3
   },
   "file_extension": ".py",
   "mimetype": "text/x-python",
   "name": "python",
   "nbconvert_exporter": "python",
   "pygments_lexer": "ipython3",
   "version": "3.11.5"
  }
 },
 "nbformat": 4,
 "nbformat_minor": 5
}
